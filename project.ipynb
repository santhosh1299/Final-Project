{
 "cells": [
  {
   "cell_type": "code",
   "execution_count": 1,
   "metadata": {
    "vscode": {
     "languageId": "r"
    }
   },
   "outputs": [
    {
     "name": "stderr",
     "output_type": "stream",
     "text": [
      "── \u001b[1mAttaching core tidyverse packages\u001b[22m ──────────────────────── tidyverse 2.0.0 ──\n",
      "\u001b[32m✔\u001b[39m \u001b[34mdplyr    \u001b[39m 1.1.4     \u001b[32m✔\u001b[39m \u001b[34mreadr    \u001b[39m 2.1.5\n",
      "\u001b[32m✔\u001b[39m \u001b[34mforcats  \u001b[39m 1.0.0     \u001b[32m✔\u001b[39m \u001b[34mstringr  \u001b[39m 1.5.1\n",
      "\u001b[32m✔\u001b[39m \u001b[34mggplot2  \u001b[39m 3.4.4     \u001b[32m✔\u001b[39m \u001b[34mtibble   \u001b[39m 3.2.1\n",
      "\u001b[32m✔\u001b[39m \u001b[34mlubridate\u001b[39m 1.9.3     \u001b[32m✔\u001b[39m \u001b[34mtidyr    \u001b[39m 1.3.1\n",
      "\u001b[32m✔\u001b[39m \u001b[34mpurrr    \u001b[39m 1.0.2     \n",
      "── \u001b[1mConflicts\u001b[22m ────────────────────────────────────────── tidyverse_conflicts() ──\n",
      "\u001b[31m✖\u001b[39m \u001b[34mdplyr\u001b[39m::\u001b[32mfilter()\u001b[39m masks \u001b[34mstats\u001b[39m::filter()\n",
      "\u001b[31m✖\u001b[39m \u001b[34mdplyr\u001b[39m::\u001b[32mlag()\u001b[39m    masks \u001b[34mstats\u001b[39m::lag()\n",
      "\u001b[36mℹ\u001b[39m Use the conflicted package (\u001b[3m\u001b[34m<http://conflicted.r-lib.org/>\u001b[39m\u001b[23m) to force all conflicts to become errors\n"
     ]
    }
   ],
   "source": [
    "library(tidyverse)"
   ]
  },
  {
   "cell_type": "code",
   "execution_count": 130,
   "metadata": {
    "vscode": {
     "languageId": "r"
    }
   },
   "outputs": [
    {
     "data": {
      "text/html": [
       "<table class=\"dataframe\">\n",
       "<caption>A data.frame: 6 × 24</caption>\n",
       "<thead>\n",
       "\t<tr><th></th><th scope=col>index</th><th scope=col>Suburb</th><th scope=col>Address</th><th scope=col>Rooms</th><th scope=col>Type</th><th scope=col>Price</th><th scope=col>Method</th><th scope=col>SellerG</th><th scope=col>Date</th><th scope=col>Distance</th><th scope=col>⋯</th><th scope=col>Landsize</th><th scope=col>BuildingArea</th><th scope=col>YearBuilt</th><th scope=col>CouncilArea</th><th scope=col>Lattitude</th><th scope=col>Longtitude</th><th scope=col>Regionname</th><th scope=col>Propertycount</th><th scope=col>X</th><th scope=col>year</th></tr>\n",
       "\t<tr><th></th><th scope=col>&lt;int&gt;</th><th scope=col>&lt;chr&gt;</th><th scope=col>&lt;chr&gt;</th><th scope=col>&lt;int&gt;</th><th scope=col>&lt;chr&gt;</th><th scope=col>&lt;int&gt;</th><th scope=col>&lt;chr&gt;</th><th scope=col>&lt;chr&gt;</th><th scope=col>&lt;chr&gt;</th><th scope=col>&lt;dbl&gt;</th><th scope=col>⋯</th><th scope=col>&lt;int&gt;</th><th scope=col>&lt;dbl&gt;</th><th scope=col>&lt;int&gt;</th><th scope=col>&lt;chr&gt;</th><th scope=col>&lt;dbl&gt;</th><th scope=col>&lt;dbl&gt;</th><th scope=col>&lt;chr&gt;</th><th scope=col>&lt;int&gt;</th><th scope=col>&lt;lgl&gt;</th><th scope=col>&lt;int&gt;</th></tr>\n",
       "</thead>\n",
       "<tbody>\n",
       "\t<tr><th scope=row>1</th><td>0</td><td>Aberfeldie       </td><td>241 Buckley St   </td><td>4</td><td>h</td><td>1380000</td><td>VB</td><td>Nelson       </td><td>8/12/2017 </td><td> 7.5</td><td>⋯</td><td>766</td><td>126</td><td>1970</td><td>Moonee Valley</td><td>-37.75595</td><td>144.9055</td><td>Western Metropolitan </td><td> 1543</td><td>NA</td><td>2017</td></tr>\n",
       "\t<tr><th scope=row>2</th><td>1</td><td>Northcote        </td><td>67 Charles St    </td><td>2</td><td>h</td><td>1100000</td><td>SP</td><td>Jellis       </td><td>5/20/2017 </td><td> 5.5</td><td>⋯</td><td>189</td><td>126</td><td>1970</td><td>Darebin      </td><td>-37.77670</td><td>144.9924</td><td>Northern Metropolitan</td><td>11364</td><td>NA</td><td>2017</td></tr>\n",
       "\t<tr><th scope=row>3</th><td>2</td><td>Balwyn North     </td><td>42 Maud St       </td><td>3</td><td>h</td><td>1480000</td><td>PI</td><td>Jellis       </td><td>10/15/2016</td><td> 9.2</td><td>⋯</td><td>605</td><td>116</td><td>1950</td><td>Boroondara   </td><td>-37.79510</td><td>145.0696</td><td>Southern Metropolitan</td><td> 7809</td><td>NA</td><td>2016</td></tr>\n",
       "\t<tr><th scope=row>4</th><td>3</td><td>Brunswick        </td><td>13 Percy St      </td><td>3</td><td>h</td><td>1055000</td><td>S </td><td>Nelson       </td><td>5/7/2016  </td><td> 5.2</td><td>⋯</td><td>324</td><td>126</td><td>1930</td><td>Moreland     </td><td>-37.76530</td><td>144.9586</td><td>Northern Metropolitan</td><td>11918</td><td>NA</td><td>2016</td></tr>\n",
       "\t<tr><th scope=row>5</th><td>4</td><td>Templestowe Lower</td><td>253 Thompsons Rd </td><td>4</td><td>h</td><td>1000000</td><td>VB</td><td>hockingstuart</td><td>8/13/2016 </td><td>13.8</td><td>⋯</td><td>728</td><td>164</td><td>1970</td><td>Manningham   </td><td>-37.76800</td><td>145.1027</td><td>Eastern Metropolitan </td><td> 5420</td><td>NA</td><td>2016</td></tr>\n",
       "\t<tr><th scope=row>6</th><td>5</td><td>Coburg           </td><td>4/34 Gladstone St</td><td>2</td><td>u</td><td> 650000</td><td>S </td><td>Barry        </td><td>4/29/2017 </td><td> 7.8</td><td>⋯</td><td>136</td><td> 81</td><td>1975</td><td>Moreland     </td><td>-37.74490</td><td>144.9754</td><td>Northern Metropolitan</td><td>11204</td><td>NA</td><td>2017</td></tr>\n",
       "</tbody>\n",
       "</table>\n"
      ],
      "text/latex": [
       "A data.frame: 6 × 24\n",
       "\\begin{tabular}{r|lllllllllllllllllllll}\n",
       "  & index & Suburb & Address & Rooms & Type & Price & Method & SellerG & Date & Distance & ⋯ & Landsize & BuildingArea & YearBuilt & CouncilArea & Lattitude & Longtitude & Regionname & Propertycount & X & year\\\\\n",
       "  & <int> & <chr> & <chr> & <int> & <chr> & <int> & <chr> & <chr> & <chr> & <dbl> & ⋯ & <int> & <dbl> & <int> & <chr> & <dbl> & <dbl> & <chr> & <int> & <lgl> & <int>\\\\\n",
       "\\hline\n",
       "\t1 & 0 & Aberfeldie        & 241 Buckley St    & 4 & h & 1380000 & VB & Nelson        & 8/12/2017  &  7.5 & ⋯ & 766 & 126 & 1970 & Moonee Valley & -37.75595 & 144.9055 & Western Metropolitan  &  1543 & NA & 2017\\\\\n",
       "\t2 & 1 & Northcote         & 67 Charles St     & 2 & h & 1100000 & SP & Jellis        & 5/20/2017  &  5.5 & ⋯ & 189 & 126 & 1970 & Darebin       & -37.77670 & 144.9924 & Northern Metropolitan & 11364 & NA & 2017\\\\\n",
       "\t3 & 2 & Balwyn North      & 42 Maud St        & 3 & h & 1480000 & PI & Jellis        & 10/15/2016 &  9.2 & ⋯ & 605 & 116 & 1950 & Boroondara    & -37.79510 & 145.0696 & Southern Metropolitan &  7809 & NA & 2016\\\\\n",
       "\t4 & 3 & Brunswick         & 13 Percy St       & 3 & h & 1055000 & S  & Nelson        & 5/7/2016   &  5.2 & ⋯ & 324 & 126 & 1930 & Moreland      & -37.76530 & 144.9586 & Northern Metropolitan & 11918 & NA & 2016\\\\\n",
       "\t5 & 4 & Templestowe Lower & 253 Thompsons Rd  & 4 & h & 1000000 & VB & hockingstuart & 8/13/2016  & 13.8 & ⋯ & 728 & 164 & 1970 & Manningham    & -37.76800 & 145.1027 & Eastern Metropolitan  &  5420 & NA & 2016\\\\\n",
       "\t6 & 5 & Coburg            & 4/34 Gladstone St & 2 & u &  650000 & S  & Barry         & 4/29/2017  &  7.8 & ⋯ & 136 &  81 & 1975 & Moreland      & -37.74490 & 144.9754 & Northern Metropolitan & 11204 & NA & 2017\\\\\n",
       "\\end{tabular}\n"
      ],
      "text/markdown": [
       "\n",
       "A data.frame: 6 × 24\n",
       "\n",
       "| <!--/--> | index &lt;int&gt; | Suburb &lt;chr&gt; | Address &lt;chr&gt; | Rooms &lt;int&gt; | Type &lt;chr&gt; | Price &lt;int&gt; | Method &lt;chr&gt; | SellerG &lt;chr&gt; | Date &lt;chr&gt; | Distance &lt;dbl&gt; | ⋯ ⋯ | Landsize &lt;int&gt; | BuildingArea &lt;dbl&gt; | YearBuilt &lt;int&gt; | CouncilArea &lt;chr&gt; | Lattitude &lt;dbl&gt; | Longtitude &lt;dbl&gt; | Regionname &lt;chr&gt; | Propertycount &lt;int&gt; | X &lt;lgl&gt; | year &lt;int&gt; |\n",
       "|---|---|---|---|---|---|---|---|---|---|---|---|---|---|---|---|---|---|---|---|---|---|\n",
       "| 1 | 0 | Aberfeldie        | 241 Buckley St    | 4 | h | 1380000 | VB | Nelson        | 8/12/2017  |  7.5 | ⋯ | 766 | 126 | 1970 | Moonee Valley | -37.75595 | 144.9055 | Western Metropolitan  |  1543 | NA | 2017 |\n",
       "| 2 | 1 | Northcote         | 67 Charles St     | 2 | h | 1100000 | SP | Jellis        | 5/20/2017  |  5.5 | ⋯ | 189 | 126 | 1970 | Darebin       | -37.77670 | 144.9924 | Northern Metropolitan | 11364 | NA | 2017 |\n",
       "| 3 | 2 | Balwyn North      | 42 Maud St        | 3 | h | 1480000 | PI | Jellis        | 10/15/2016 |  9.2 | ⋯ | 605 | 116 | 1950 | Boroondara    | -37.79510 | 145.0696 | Southern Metropolitan |  7809 | NA | 2016 |\n",
       "| 4 | 3 | Brunswick         | 13 Percy St       | 3 | h | 1055000 | S  | Nelson        | 5/7/2016   |  5.2 | ⋯ | 324 | 126 | 1930 | Moreland      | -37.76530 | 144.9586 | Northern Metropolitan | 11918 | NA | 2016 |\n",
       "| 5 | 4 | Templestowe Lower | 253 Thompsons Rd  | 4 | h | 1000000 | VB | hockingstuart | 8/13/2016  | 13.8 | ⋯ | 728 | 164 | 1970 | Manningham    | -37.76800 | 145.1027 | Eastern Metropolitan  |  5420 | NA | 2016 |\n",
       "| 6 | 5 | Coburg            | 4/34 Gladstone St | 2 | u |  650000 | S  | Barry         | 4/29/2017  |  7.8 | ⋯ | 136 |  81 | 1975 | Moreland      | -37.74490 | 144.9754 | Northern Metropolitan | 11204 | NA | 2017 |\n",
       "\n"
      ],
      "text/plain": [
       "  index Suburb            Address           Rooms Type Price   Method\n",
       "1 0     Aberfeldie        241 Buckley St    4     h    1380000 VB    \n",
       "2 1     Northcote         67 Charles St     2     h    1100000 SP    \n",
       "3 2     Balwyn North      42 Maud St        3     h    1480000 PI    \n",
       "4 3     Brunswick         13 Percy St       3     h    1055000 S     \n",
       "5 4     Templestowe Lower 253 Thompsons Rd  4     h    1000000 VB    \n",
       "6 5     Coburg            4/34 Gladstone St 2     u     650000 S     \n",
       "  SellerG       Date       Distance ⋯ Landsize BuildingArea YearBuilt\n",
       "1 Nelson        8/12/2017   7.5     ⋯ 766      126          1970     \n",
       "2 Jellis        5/20/2017   5.5     ⋯ 189      126          1970     \n",
       "3 Jellis        10/15/2016  9.2     ⋯ 605      116          1950     \n",
       "4 Nelson        5/7/2016    5.2     ⋯ 324      126          1930     \n",
       "5 hockingstuart 8/13/2016  13.8     ⋯ 728      164          1970     \n",
       "6 Barry         4/29/2017   7.8     ⋯ 136       81          1975     \n",
       "  CouncilArea   Lattitude Longtitude Regionname            Propertycount X \n",
       "1 Moonee Valley -37.75595 144.9055   Western Metropolitan   1543         NA\n",
       "2 Darebin       -37.77670 144.9924   Northern Metropolitan 11364         NA\n",
       "3 Boroondara    -37.79510 145.0696   Southern Metropolitan  7809         NA\n",
       "4 Moreland      -37.76530 144.9586   Northern Metropolitan 11918         NA\n",
       "5 Manningham    -37.76800 145.1027   Eastern Metropolitan   5420         NA\n",
       "6 Moreland      -37.74490 144.9754   Northern Metropolitan 11204         NA\n",
       "  year\n",
       "1 2017\n",
       "2 2017\n",
       "3 2016\n",
       "4 2016\n",
       "5 2016\n",
       "6 2017"
      ]
     },
     "metadata": {},
     "output_type": "display_data"
    }
   ],
   "source": [
    "# Read the CSV file into a data frame\n",
    "data <- read.csv(\"house_price_clean.csv\")\n",
    "\n",
    "# View the first few rows of the data frame\n",
    "head(data)\n",
    "\n"
   ]
  },
  {
   "cell_type": "code",
   "execution_count": 131,
   "metadata": {
    "vscode": {
     "languageId": "r"
    }
   },
   "outputs": [],
   "source": [
    "\n",
    "\n",
    "data <- data[0:5432,]\n"
   ]
  },
  {
   "cell_type": "code",
   "execution_count": 137,
   "metadata": {
    "vscode": {
     "languageId": "r"
    }
   },
   "outputs": [],
   "source": [
    "#reorder the columns\n",
    "data <-data   %>%\n",
    "  select(Rooms, Distance, Bedroom2, Bathroom,Car,Landsize,BuildingArea,Propertycount,Lattitude,Longtitude,Price)\n"
   ]
  },
  {
   "cell_type": "code",
   "execution_count": 139,
   "metadata": {
    "vscode": {
     "languageId": "r"
    }
   },
   "outputs": [
    {
     "data": {
      "image/png": "[encoded data removed]",
      "text/plain": [
       "Plot with title \"Histogram of Price\""
      ]
     },
     "metadata": {
      "image/png": {
       "height": 420,
       "width": 420
      }
     },
     "output_type": "display_data"
    }
   ],
   "source": [
    "par(mfrow=c(ceiling(sqrt(ncol(data))), ceiling(sqrt(ncol(data)))))\n",
    "\n",
    "# Loop through each column and plot its histogram\n",
    "for (col in names(data)) {\n",
    "  hist(data[[col]], main=paste(\"Histogram of\", col), xlab=col)\n",
    "}"
   ]
  },
  {
   "cell_type": "code",
   "execution_count": 140,
   "metadata": {
    "vscode": {
     "languageId": "r"
    }
   },
   "outputs": [
    {
     "name": "stderr",
     "output_type": "stream",
     "text": [
      "Warning message in log(data$Distance):\n",
      "\"NaNs produced\"\n",
      "Warning message in log(data$Bedroom2):\n",
      "\"NaNs produced\"\n",
      "Warning message in log(data$Bathroom):\n",
      "\"NaNs produced\"\n",
      "Warning message in log(data$Car):\n",
      "\"NaNs produced\"\n",
      "Warning message in log(data$Landsize):\n",
      "\"NaNs produced\"\n",
      "Warning message in log(data$BuildingArea):\n",
      "\"NaNs produced\"\n"
     ]
    }
   ],
   "source": [
    "# Apply log transformation to 'Rooms' column\n",
    "data$Rooms <- log(data$Rooms)\n",
    "\n",
    "# Apply log transformation to 'Distance' column\n",
    "data$Distance <- log(data$Distance)\n",
    "\n",
    "# Apply log transformation to 'Bedroom2' column\n",
    "data$Bedroom2 <- log(data$Bedroom2)\n",
    "\n",
    "# Apply log transformation to 'Bathroom' column\n",
    "data$Bathroom <- log(data$Bathroom)\n",
    "\n",
    "# Apply log transformation to 'Car' column\n",
    "data$Car <- log(data$Car)\n",
    "\n",
    "# Apply log transformation to 'Landsize' column\n",
    "data$Landsize <- log(data$Landsize)\n",
    "\n",
    "# Apply log transformation to 'BuildingArea' column\n",
    "data$BuildingArea <- log(data$BuildingArea)\n",
    "\n",
    "# Apply log transformation to 'Propertycount' column\n",
    "data$Propertycount <- log(data$Propertycount)\n",
    "\n",
    "# Apply log transformation to 'Price' column\n",
    "data$Price <- log(data$Price)"
   ]
  },
  {
   "cell_type": "code",
   "execution_count": 141,
   "metadata": {
    "vscode": {
     "languageId": "r"
    }
   },
   "outputs": [
    {
     "data": {
      "image/png": "[encoded data removed]",
      "text/plain": [
       "Plot with title \"Histogram of Price\""
      ]
     },
     "metadata": {
      "image/png": {
       "height": 420,
       "width": 420
      }
     },
     "output_type": "display_data"
    }
   ],
   "source": [
    "par(mfrow=c(ceiling(sqrt(ncol(data_2))), ceiling(sqrt(ncol(data_2)))))\n",
    "\n",
    "# Loop through each column and plot its histogram\n",
    "for (col in names(log_trans_data)) {\n",
    "  hist(log_trans_data[[col]], main=paste(\"Histogram of\", col), xlab=col)\n",
    "}"
   ]
  },
  {
   "cell_type": "code",
   "execution_count": 147,
   "metadata": {
    "vscode": {
     "languageId": "r"
    }
   },
   "outputs": [],
   "source": [
    "log_trans<- data[complete.cases(data), ]"
   ]
  },
  {
   "cell_type": "code",
   "execution_count": 148,
   "metadata": {
    "vscode": {
     "languageId": "r"
    }
   },
   "outputs": [
    {
     "data": {
      "text/html": [
       "<table class=\"dataframe\">\n",
       "<caption>A data.frame: 6 × 11</caption>\n",
       "<thead>\n",
       "\t<tr><th></th><th scope=col>Rooms</th><th scope=col>Distance</th><th scope=col>Bedroom2</th><th scope=col>Bathroom</th><th scope=col>Car</th><th scope=col>Landsize</th><th scope=col>BuildingArea</th><th scope=col>Propertycount</th><th scope=col>Lattitude</th><th scope=col>Longtitude</th><th scope=col>Price</th></tr>\n",
       "\t<tr><th></th><th scope=col>&lt;dbl&gt;</th><th scope=col>&lt;dbl&gt;</th><th scope=col>&lt;dbl&gt;</th><th scope=col>&lt;dbl&gt;</th><th scope=col>&lt;dbl&gt;</th><th scope=col>&lt;dbl&gt;</th><th scope=col>&lt;dbl&gt;</th><th scope=col>&lt;dbl&gt;</th><th scope=col>&lt;dbl&gt;</th><th scope=col>&lt;dbl&gt;</th><th scope=col>&lt;dbl&gt;</th></tr>\n",
       "</thead>\n",
       "<tbody>\n",
       "\t<tr><th scope=row>1</th><td> 0.32663426</td><td>0.7005711</td><td> 0.32663426</td><td>-0.36651292</td><td>-0.3665129</td><td>1.893290</td><td>1.576146</td><td>1.993541</td><td>-37.75595</td><td>144.9055</td><td>2.648837</td></tr>\n",
       "\t<tr><th scope=row>2</th><td>-0.36651292</td><td>0.5334174</td><td>-0.36651292</td><td>       -Inf</td><td>      -Inf</td><td>1.656655</td><td>1.576146</td><td>2.234114</td><td>-37.77670</td><td>144.9924</td><td>2.632667</td></tr>\n",
       "\t<tr><th scope=row>3</th><td> 0.09404783</td><td>0.7971483</td><td> 0.09404783</td><td>       -Inf</td><td> 0.3266343</td><td>1.857115</td><td>1.558900</td><td>2.193109</td><td>-37.79510</td><td>145.0696</td><td>2.653774</td></tr>\n",
       "\t<tr><th scope=row>4</th><td> 0.09404783</td><td>0.4999620</td><td> 0.09404783</td><td>       -Inf</td><td>      -Inf</td><td>1.754532</td><td>1.576146</td><td>2.239198</td><td>-37.76530</td><td>144.9586</td><td>2.629660</td></tr>\n",
       "\t<tr><th scope=row>5</th><td> 0.32663426</td><td>0.9649546</td><td> 0.32663426</td><td> 0.09404783</td><td>-0.3665129</td><td>1.885599</td><td>1.629214</td><td>2.151512</td><td>-37.76800</td><td>145.1027</td><td>2.625792</td></tr>\n",
       "\t<tr><th scope=row>6</th><td>-0.36651292</td><td>0.7198494</td><td>-0.36651292</td><td>       -Inf</td><td>      -Inf</td><td>1.591815</td><td>1.480342</td><td>2.232595</td><td>-37.74490</td><td>144.9754</td><td>2.594114</td></tr>\n",
       "</tbody>\n",
       "</table>\n"
      ],
      "text/latex": [
       "A data.frame: 6 × 11\n",
       "\\begin{tabular}{r|lllllllllll}\n",
       "  & Rooms & Distance & Bedroom2 & Bathroom & Car & Landsize & BuildingArea & Propertycount & Lattitude & Longtitude & Price\\\\\n",
       "  & <dbl> & <dbl> & <dbl> & <dbl> & <dbl> & <dbl> & <dbl> & <dbl> & <dbl> & <dbl> & <dbl>\\\\\n",
       "\\hline\n",
       "\t1 &  0.32663426 & 0.7005711 &  0.32663426 & -0.36651292 & -0.3665129 & 1.893290 & 1.576146 & 1.993541 & -37.75595 & 144.9055 & 2.648837\\\\\n",
       "\t2 & -0.36651292 & 0.5334174 & -0.36651292 &        -Inf &       -Inf & 1.656655 & 1.576146 & 2.234114 & -37.77670 & 144.9924 & 2.632667\\\\\n",
       "\t3 &  0.09404783 & 0.7971483 &  0.09404783 &        -Inf &  0.3266343 & 1.857115 & 1.558900 & 2.193109 & -37.79510 & 145.0696 & 2.653774\\\\\n",
       "\t4 &  0.09404783 & 0.4999620 &  0.09404783 &        -Inf &       -Inf & 1.754532 & 1.576146 & 2.239198 & -37.76530 & 144.9586 & 2.629660\\\\\n",
       "\t5 &  0.32663426 & 0.9649546 &  0.32663426 &  0.09404783 & -0.3665129 & 1.885599 & 1.629214 & 2.151512 & -37.76800 & 145.1027 & 2.625792\\\\\n",
       "\t6 & -0.36651292 & 0.7198494 & -0.36651292 &        -Inf &       -Inf & 1.591815 & 1.480342 & 2.232595 & -37.74490 & 144.9754 & 2.594114\\\\\n",
       "\\end{tabular}\n"
      ],
      "text/markdown": [
       "\n",
       "A data.frame: 6 × 11\n",
       "\n",
       "| <!--/--> | Rooms &lt;dbl&gt; | Distance &lt;dbl&gt; | Bedroom2 &lt;dbl&gt; | Bathroom &lt;dbl&gt; | Car &lt;dbl&gt; | Landsize &lt;dbl&gt; | BuildingArea &lt;dbl&gt; | Propertycount &lt;dbl&gt; | Lattitude &lt;dbl&gt; | Longtitude &lt;dbl&gt; | Price &lt;dbl&gt; |\n",
       "|---|---|---|---|---|---|---|---|---|---|---|---|\n",
       "| 1 |  0.32663426 | 0.7005711 |  0.32663426 | -0.36651292 | -0.3665129 | 1.893290 | 1.576146 | 1.993541 | -37.75595 | 144.9055 | 2.648837 |\n",
       "| 2 | -0.36651292 | 0.5334174 | -0.36651292 |        -Inf |       -Inf | 1.656655 | 1.576146 | 2.234114 | -37.77670 | 144.9924 | 2.632667 |\n",
       "| 3 |  0.09404783 | 0.7971483 |  0.09404783 |        -Inf |  0.3266343 | 1.857115 | 1.558900 | 2.193109 | -37.79510 | 145.0696 | 2.653774 |\n",
       "| 4 |  0.09404783 | 0.4999620 |  0.09404783 |        -Inf |       -Inf | 1.754532 | 1.576146 | 2.239198 | -37.76530 | 144.9586 | 2.629660 |\n",
       "| 5 |  0.32663426 | 0.9649546 |  0.32663426 |  0.09404783 | -0.3665129 | 1.885599 | 1.629214 | 2.151512 | -37.76800 | 145.1027 | 2.625792 |\n",
       "| 6 | -0.36651292 | 0.7198494 | -0.36651292 |        -Inf |       -Inf | 1.591815 | 1.480342 | 2.232595 | -37.74490 | 144.9754 | 2.594114 |\n",
       "\n"
      ],
      "text/plain": [
       "  Rooms       Distance  Bedroom2    Bathroom    Car        Landsize\n",
       "1  0.32663426 0.7005711  0.32663426 -0.36651292 -0.3665129 1.893290\n",
       "2 -0.36651292 0.5334174 -0.36651292        -Inf       -Inf 1.656655\n",
       "3  0.09404783 0.7971483  0.09404783        -Inf  0.3266343 1.857115\n",
       "4  0.09404783 0.4999620  0.09404783        -Inf       -Inf 1.754532\n",
       "5  0.32663426 0.9649546  0.32663426  0.09404783 -0.3665129 1.885599\n",
       "6 -0.36651292 0.7198494 -0.36651292        -Inf       -Inf 1.591815\n",
       "  BuildingArea Propertycount Lattitude Longtitude Price   \n",
       "1 1.576146     1.993541      -37.75595 144.9055   2.648837\n",
       "2 1.576146     2.234114      -37.77670 144.9924   2.632667\n",
       "3 1.558900     2.193109      -37.79510 145.0696   2.653774\n",
       "4 1.576146     2.239198      -37.76530 144.9586   2.629660\n",
       "5 1.629214     2.151512      -37.76800 145.1027   2.625792\n",
       "6 1.480342     2.232595      -37.74490 144.9754   2.594114"
      ]
     },
     "metadata": {},
     "output_type": "display_data"
    }
   ],
   "source": [
    "head(log_trans)"
   ]
  },
  {
   "cell_type": "code",
   "execution_count": 83,
   "metadata": {
    "vscode": {
     "languageId": "r"
    }
   },
   "outputs": [],
   "source": [
    "log_trans_data<- data[complete.cases(log_trans_data), ]"
   ]
  },
  {
   "cell_type": "code",
   "execution_count": 84,
   "metadata": {
    "vscode": {
     "languageId": "r"
    }
   },
   "outputs": [
    {
     "ename": "ERROR",
     "evalue": "Error in eval(predvars, data, env): object 'Latitude' not found\n",
     "output_type": "error",
     "traceback": [
      "Error in eval(predvars, data, env): object 'Latitude' not found\nTraceback:\n",
      "1. lm(Price ~ Rooms + Distance + Bedroom2 + Bathroom + Car + Landsize + \n .     BuildingArea + Propertycount + Latitude + Longitude, data = log_trans_data)",
      "2. eval(mf, parent.frame())",
      "3. eval(mf, parent.frame())",
      "4. stats::model.frame(formula = Price ~ Rooms + Distance + Bedroom2 + \n .     Bathroom + Car + Landsize + BuildingArea + Propertycount + \n .     Latitude + Longitude, data = log_trans_data, drop.unused.levels = TRUE)",
      "5. model.frame.default(formula = Price ~ Rooms + Distance + Bedroom2 + \n .     Bathroom + Car + Landsize + BuildingArea + Propertycount + \n .     Latitude + Longitude, data = log_trans_data, drop.unused.levels = TRUE)",
      "6. eval(predvars, data, env)",
      "7. eval(predvars, data, env)"
     ]
    }
   ],
   "source": [
    "\n",
    "mlr_model <- lm(Price ~ Rooms + Distance + Bedroom2 + Bathroom + Car + Landsize + BuildingArea + Propertycount + Latitude + Longitude , data = log_trans_data)\n",
    "\n",
    "mlr_model$coefficients"
   ]
  },
  {
   "cell_type": "code",
   "execution_count": null,
   "metadata": {
    "vscode": {
     "languageId": "r"
    }
   },
   "outputs": [],
   "source": []
  },
  {
   "cell_type": "markdown",
   "metadata": {
    "vscode": {
     "languageId": "r"
    }
   },
   "source": [
    "### F Test\n",
    "\n",
    "Assuming the significance level  $\\alpha = 0.05 $ to determine if atleast one of the features is related to the response variable Y"
   ]
  },
  {
   "cell_type": "code",
   "execution_count": 32,
   "metadata": {
    "vscode": {
     "languageId": "r"
    }
   },
   "outputs": [
    {
     "data": {
      "text/html": [
       "<table class=\"dataframe\">\n",
       "<caption>A anova: 9 × 5</caption>\n",
       "<thead>\n",
       "\t<tr><th></th><th scope=col>Df</th><th scope=col>Sum Sq</th><th scope=col>Mean Sq</th><th scope=col>F value</th><th scope=col>Pr(&gt;F)</th></tr>\n",
       "\t<tr><th></th><th scope=col>&lt;int&gt;</th><th scope=col>&lt;dbl&gt;</th><th scope=col>&lt;dbl&gt;</th><th scope=col>&lt;dbl&gt;</th><th scope=col>&lt;dbl&gt;</th></tr>\n",
       "</thead>\n",
       "<tbody>\n",
       "\t<tr><th scope=row>Rooms</th><td>   1</td><td>5.570352e+14</td><td>5.570352e+14</td><td>2200.1160621</td><td> 0.000000e+00</td></tr>\n",
       "\t<tr><th scope=row>Distance</th><td>   1</td><td>2.446908e+14</td><td>2.446908e+14</td><td> 966.4527350</td><td>2.091520e-195</td></tr>\n",
       "\t<tr><th scope=row>Bedroom2</th><td>   1</td><td>1.664257e+12</td><td>1.664257e+12</td><td>   6.5732968</td><td> 1.037871e-02</td></tr>\n",
       "\t<tr><th scope=row>Bathroom</th><td>   1</td><td>8.453977e+13</td><td>8.453977e+13</td><td> 333.9058459</td><td> 1.948331e-72</td></tr>\n",
       "\t<tr><th scope=row>Car</th><td>   1</td><td>1.029293e+13</td><td>1.029293e+13</td><td>  40.6538833</td><td> 1.967644e-10</td></tr>\n",
       "\t<tr><th scope=row>Landsize</th><td>   1</td><td>2.119875e+12</td><td>2.119875e+12</td><td>   8.3728460</td><td> 3.823866e-03</td></tr>\n",
       "\t<tr><th scope=row>BuildingArea</th><td>   1</td><td>4.705531e+11</td><td>4.705531e+11</td><td>   1.8585387</td><td> 1.728501e-01</td></tr>\n",
       "\t<tr><th scope=row>Propertycount</th><td>   1</td><td>9.257653e+10</td><td>9.257653e+10</td><td>   0.3656486</td><td> 5.454111e-01</td></tr>\n",
       "\t<tr><th scope=row>Residuals</th><td>5423</td><td>1.373019e+15</td><td>2.531845e+11</td><td>          NA</td><td>           NA</td></tr>\n",
       "</tbody>\n",
       "</table>\n"
      ],
      "text/latex": [
       "A anova: 9 × 5\n",
       "\\begin{tabular}{r|lllll}\n",
       "  & Df & Sum Sq & Mean Sq & F value & Pr(>F)\\\\\n",
       "  & <int> & <dbl> & <dbl> & <dbl> & <dbl>\\\\\n",
       "\\hline\n",
       "\tRooms &    1 & 5.570352e+14 & 5.570352e+14 & 2200.1160621 &  0.000000e+00\\\\\n",
       "\tDistance &    1 & 2.446908e+14 & 2.446908e+14 &  966.4527350 & 2.091520e-195\\\\\n",
       "\tBedroom2 &    1 & 1.664257e+12 & 1.664257e+12 &    6.5732968 &  1.037871e-02\\\\\n",
       "\tBathroom &    1 & 8.453977e+13 & 8.453977e+13 &  333.9058459 &  1.948331e-72\\\\\n",
       "\tCar &    1 & 1.029293e+13 & 1.029293e+13 &   40.6538833 &  1.967644e-10\\\\\n",
       "\tLandsize &    1 & 2.119875e+12 & 2.119875e+12 &    8.3728460 &  3.823866e-03\\\\\n",
       "\tBuildingArea &    1 & 4.705531e+11 & 4.705531e+11 &    1.8585387 &  1.728501e-01\\\\\n",
       "\tPropertycount &    1 & 9.257653e+10 & 9.257653e+10 &    0.3656486 &  5.454111e-01\\\\\n",
       "\tResiduals & 5423 & 1.373019e+15 & 2.531845e+11 &           NA &            NA\\\\\n",
       "\\end{tabular}\n"
      ],
      "text/markdown": [
       "\n",
       "A anova: 9 × 5\n",
       "\n",
       "| <!--/--> | Df &lt;int&gt; | Sum Sq &lt;dbl&gt; | Mean Sq &lt;dbl&gt; | F value &lt;dbl&gt; | Pr(&gt;F) &lt;dbl&gt; |\n",
       "|---|---|---|---|---|---|\n",
       "| Rooms |    1 | 5.570352e+14 | 5.570352e+14 | 2200.1160621 |  0.000000e+00 |\n",
       "| Distance |    1 | 2.446908e+14 | 2.446908e+14 |  966.4527350 | 2.091520e-195 |\n",
       "| Bedroom2 |    1 | 1.664257e+12 | 1.664257e+12 |    6.5732968 |  1.037871e-02 |\n",
       "| Bathroom |    1 | 8.453977e+13 | 8.453977e+13 |  333.9058459 |  1.948331e-72 |\n",
       "| Car |    1 | 1.029293e+13 | 1.029293e+13 |   40.6538833 |  1.967644e-10 |\n",
       "| Landsize |    1 | 2.119875e+12 | 2.119875e+12 |    8.3728460 |  3.823866e-03 |\n",
       "| BuildingArea |    1 | 4.705531e+11 | 4.705531e+11 |    1.8585387 |  1.728501e-01 |\n",
       "| Propertycount |    1 | 9.257653e+10 | 9.257653e+10 |    0.3656486 |  5.454111e-01 |\n",
       "| Residuals | 5423 | 1.373019e+15 | 2.531845e+11 |           NA |            NA |\n",
       "\n"
      ],
      "text/plain": [
       "              Df   Sum Sq       Mean Sq      F value      Pr(>F)       \n",
       "Rooms            1 5.570352e+14 5.570352e+14 2200.1160621  0.000000e+00\n",
       "Distance         1 2.446908e+14 2.446908e+14  966.4527350 2.091520e-195\n",
       "Bedroom2         1 1.664257e+12 1.664257e+12    6.5732968  1.037871e-02\n",
       "Bathroom         1 8.453977e+13 8.453977e+13  333.9058459  1.948331e-72\n",
       "Car              1 1.029293e+13 1.029293e+13   40.6538833  1.967644e-10\n",
       "Landsize         1 2.119875e+12 2.119875e+12    8.3728460  3.823866e-03\n",
       "BuildingArea     1 4.705531e+11 4.705531e+11    1.8585387  1.728501e-01\n",
       "Propertycount    1 9.257653e+10 9.257653e+10    0.3656486  5.454111e-01\n",
       "Residuals     5423 1.373019e+15 2.531845e+11           NA            NA"
      ]
     },
     "metadata": {},
     "output_type": "display_data"
    }
   ],
   "source": [
    "anova(mlr_model)"
   ]
  },
  {
   "cell_type": "markdown",
   "metadata": {},
   "source": [
    "$H_o = $ No Feature is related to the response variable \"Price\"\n",
    "\n",
    "\n",
    "$H_A = $ Atleast one feature is related to the response variable \"Price\" \n",
    "\n",
    "\n",
    "From the results tables we can clearly see that many features has P-value less than the significance level. \n",
    "\n",
    "\n",
    "\n",
    "\n"
   ]
  },
  {
   "cell_type": "markdown",
   "metadata": {},
   "source": [
    "### Diagnostics\n",
    "\n",
    "Goodnees of Fit"
   ]
  },
  {
   "cell_type": "code",
   "execution_count": 34,
   "metadata": {
    "vscode": {
     "languageId": "r"
    }
   },
   "outputs": [
    {
     "data": {
      "text/plain": [
       "\n",
       "Call:\n",
       "lm(formula = Price ~ Rooms + Distance + Bedroom2 + Bathroom + \n",
       "    Car + Landsize + BuildingArea + Propertycount, data = log_trans_data)\n",
       "\n",
       "Residuals:\n",
       "     Min       1Q   Median       3Q      Max \n",
       "-2420316  -296233   -87699   211870  5403596 \n",
       "\n",
       "Coefficients:\n",
       "                Estimate Std. Error t value Pr(>|t|)    \n",
       "(Intercept)    1.996e+05  2.691e+04   7.416 1.40e-13 ***\n",
       "Rooms          2.913e+05  1.895e+04  15.368  < 2e-16 ***\n",
       "Distance      -3.779e+04  1.220e+03 -30.981  < 2e-16 ***\n",
       "Bedroom2       2.274e+03  1.803e+04   0.126   0.8996    \n",
       "Bathroom       2.097e+05  1.213e+04  17.288  < 2e-16 ***\n",
       "Car            4.859e+04  7.816e+03   6.217 5.45e-10 ***\n",
       "Landsize       1.040e+01  4.774e+00   2.179   0.0294 *  \n",
       "BuildingArea   1.630e+01  1.206e+01   1.352   0.1765    \n",
       "Propertycount -9.492e-01  1.570e+00  -0.605   0.5454    \n",
       "---\n",
       "Signif. codes:  0 '***' 0.001 '**' 0.01 '*' 0.05 '.' 0.1 ' ' 1\n",
       "\n",
       "Residual standard error: 503200 on 5423 degrees of freedom\n",
       "Multiple R-squared:  0.3962,\tAdjusted R-squared:  0.3953 \n",
       "F-statistic: 444.8 on 8 and 5423 DF,  p-value: < 2.2e-16\n"
      ]
     },
     "metadata": {},
     "output_type": "display_data"
    }
   ],
   "source": [
    "summary(mlr_model)"
   ]
  },
  {
   "cell_type": "markdown",
   "metadata": {},
   "source": [
    "The $R^2 = 0.3962 $ is low it shows that we need to work in the feature selection process by using the forward select method. "
   ]
  },
  {
   "cell_type": "markdown",
   "metadata": {
    "vscode": {
     "languageId": "r"
    }
   },
   "source": [
    "### Forward Select"
   ]
  },
  {
   "cell_type": "code",
   "execution_count": 47,
   "metadata": {
    "vscode": {
     "languageId": "r"
    }
   },
   "outputs": [
    {
     "name": "stdout",
     "output_type": "stream",
     "text": [
      "Step:  1   Rooms  has been added.\n",
      "Step:  2   Distance  has been added.\n",
      "Step:  3   Bathroom  has been added.\n",
      "Step:  4   Car  has been added.\n",
      "Step:  5   Landsize  has been added.\n",
      "Step:  6   BuildingArea  has been added.\n",
      "Step:  7   Propertycount  has been added.\n",
      "Step:  8   Bedroom2  has been added.\n"
     ]
    },
    {
     "data": {
      "text/html": [
       "<style>\n",
       ".list-inline {list-style: none; margin:0; padding: 0}\n",
       ".list-inline>li {display: inline-block}\n",
       ".list-inline>li:not(:last-child)::after {content: \"\\00b7\"; padding: 0 .5ex}\n",
       "</style>\n",
       "<ol class=list-inline><li>'Rooms'</li><li>'Distance'</li><li>'Bathroom'</li><li>'Car'</li><li>'Landsize'</li><li>'BuildingArea'</li><li>'Propertycount'</li><li>'Bedroom2'</li></ol>\n"
      ],
      "text/latex": [
       "\\begin{enumerate*}\n",
       "\\item 'Rooms'\n",
       "\\item 'Distance'\n",
       "\\item 'Bathroom'\n",
       "\\item 'Car'\n",
       "\\item 'Landsize'\n",
       "\\item 'BuildingArea'\n",
       "\\item 'Propertycount'\n",
       "\\item 'Bedroom2'\n",
       "\\end{enumerate*}\n"
      ],
      "text/markdown": [
       "1. 'Rooms'\n",
       "2. 'Distance'\n",
       "3. 'Bathroom'\n",
       "4. 'Car'\n",
       "5. 'Landsize'\n",
       "6. 'BuildingArea'\n",
       "7. 'Propertycount'\n",
       "8. 'Bedroom2'\n",
       "\n",
       "\n"
      ],
      "text/plain": [
       "[1] \"Rooms\"         \"Distance\"      \"Bathroom\"      \"Car\"          \n",
       "[5] \"Landsize\"      \"BuildingArea\"  \"Propertycount\" \"Bedroom2\"     "
      ]
     },
     "metadata": {},
     "output_type": "display_data"
    }
   ],
   "source": [
    "forward_select <- function(df, resp_str, maxk) {\n",
    "  selected_features <- c() \n",
    "  other_feat <- setdiff(names(df), resp_str)\n",
    "  Y <- df[[resp_str]]\n",
    "  for (k in 1:maxk) {\n",
    "    best_feature <- NULL\n",
    "    low_sse <- Inf  \n",
    "    \n",
    "    for (feature in other_feat) {\n",
    "      input_feature <- c(selected_features, feature)\n",
    "      model <- lm(paste(resp_str, \"~\", paste(input_feature, collapse = \" + \")), data = df)\n",
    "      y_hat <- predict(model, newdata = df)\n",
    "      sse <- sum((Y - y_hat)^2)\n",
    "      \n",
    "      if (sse < low_sse) {  \n",
    "        low_sse <- sse  # Corrected variable name here\n",
    "        best_feature <- feature\n",
    "      }\n",
    "    }\n",
    "    selected_features <- c(selected_features, best_feature)\n",
    "    other_feat <- setdiff(other_feat, best_feature)\n",
    "    \n",
    "    cat(paste(\"Step: \", k, \" \", best_feature, \" has been added.\\n\" ))\n",
    "  }\n",
    "  \n",
    "  return(selected_features)\n",
    "}\n",
    "\n",
    "forward_select(data, \"Price\",8)"
   ]
  },
  {
   "cell_type": "code",
   "execution_count": 48,
   "metadata": {
    "vscode": {
     "languageId": "r"
    }
   },
   "outputs": [
    {
     "data": {
      "text/html": [
       "<style>\n",
       ".dl-inline {width: auto; margin:0; padding: 0}\n",
       ".dl-inline>dt, .dl-inline>dd {float: none; width: auto; display: inline-block}\n",
       ".dl-inline>dt::after {content: \":\\0020\"; padding-right: .5ex}\n",
       ".dl-inline>dt:not(:first-of-type) {padding-left: .5ex}\n",
       "</style><dl class=dl-inline><dt>(Intercept)</dt><dd>191502.719268168</dd><dt>Rooms</dt><dd>293687.529787716</dd><dt>Distance</dt><dd>-37756.4214498097</dd><dt>Bathroom</dt><dd>209976.674883089</dd><dt>Car</dt><dd>48525.8159214484</dd><dt>Landsize</dt><dd>10.3765016012334</dd><dt>BuildingArea</dt><dd>16.4266396931687</dd></dl>\n"
      ],
      "text/latex": [
       "\\begin{description*}\n",
       "\\item[(Intercept)] 191502.719268168\n",
       "\\item[Rooms] 293687.529787716\n",
       "\\item[Distance] -37756.4214498097\n",
       "\\item[Bathroom] 209976.674883089\n",
       "\\item[Car] 48525.8159214484\n",
       "\\item[Landsize] 10.3765016012334\n",
       "\\item[BuildingArea] 16.4266396931687\n",
       "\\end{description*}\n"
      ],
      "text/markdown": [
       "(Intercept)\n",
       ":   191502.719268168Rooms\n",
       ":   293687.529787716Distance\n",
       ":   -37756.4214498097Bathroom\n",
       ":   209976.674883089Car\n",
       ":   48525.8159214484Landsize\n",
       ":   10.3765016012334BuildingArea\n",
       ":   16.4266396931687\n",
       "\n"
      ],
      "text/plain": [
       " (Intercept)        Rooms     Distance     Bathroom          Car     Landsize \n",
       "191502.71927 293687.52979 -37756.42145 209976.67488  48525.81592     10.37650 \n",
       "BuildingArea \n",
       "    16.42664 "
      ]
     },
     "metadata": {},
     "output_type": "display_data"
    }
   ],
   "source": [
    "\n",
    "mlr_model <- lm(Price ~ Rooms + Distance  + Bathroom + Car + Landsize  + BuildingArea  , data = log_trans_data)\n",
    "\n",
    "mlr_model$coefficients"
   ]
  },
  {
   "cell_type": "code",
   "execution_count": 49,
   "metadata": {
    "vscode": {
     "languageId": "r"
    }
   },
   "outputs": [
    {
     "data": {
      "text/plain": [
       "\n",
       "Call:\n",
       "lm(formula = Price ~ Rooms + Distance + Bathroom + Car + Landsize + \n",
       "    BuildingArea, data = log_trans_data)\n",
       "\n",
       "Residuals:\n",
       "     Min       1Q   Median       3Q      Max \n",
       "-2417080  -296798   -88472   210646  5406681 \n",
       "\n",
       "Coefficients:\n",
       "               Estimate Std. Error t value Pr(>|t|)    \n",
       "(Intercept)  191502.719  23211.709   8.250  < 2e-16 ***\n",
       "Rooms        293687.530   9425.864  31.158  < 2e-16 ***\n",
       "Distance     -37756.421   1217.565 -31.010  < 2e-16 ***\n",
       "Bathroom     209976.675  12053.472  17.420  < 2e-16 ***\n",
       "Car           48525.816   7806.569   6.216 5.48e-10 ***\n",
       "Landsize         10.377      4.773   2.174   0.0297 *  \n",
       "BuildingArea     16.427     12.052   1.363   0.1729    \n",
       "---\n",
       "Signif. codes:  0 '***' 0.001 '**' 0.01 '*' 0.05 '.' 0.1 ' ' 1\n",
       "\n",
       "Residual standard error: 503100 on 5425 degrees of freedom\n",
       "Multiple R-squared:  0.3961,\tAdjusted R-squared:  0.3955 \n",
       "F-statistic: 593.2 on 6 and 5425 DF,  p-value: < 2.2e-16\n"
      ]
     },
     "metadata": {},
     "output_type": "display_data"
    }
   ],
   "source": [
    "summary(mlr_model)"
   ]
  },
  {
   "cell_type": "code",
   "execution_count": null,
   "metadata": {
    "vscode": {
     "languageId": "r"
    }
   },
   "outputs": [],
   "source": []
  }
 ],
 "metadata": {
  "kernelspec": {
   "display_name": "R",
   "language": "R",
   "name": "ir"
  },
  "language_info": {
   "codemirror_mode": "r",
   "file_extension": ".r",
   "mimetype": "text/x-r-source",
   "name": "R",
   "pygments_lexer": "r",
   "version": "4.3.2"
  }
 },
 "nbformat": 4,
 "nbformat_minor": 2
}
