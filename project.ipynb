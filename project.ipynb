{
 "cells": [
  {
   "cell_type": "markdown",
   "metadata": {},
   "source": [
    "## Statistics Final Project\n",
    "\n",
    "Name : Santhosh Pattamudu Manoharan\n",
    "\n",
    "\n",
    "Dataset Name : House Prediction 2023 Posgraduate DSUB (Kaggle Competition)\n",
    "\n",
    "Dataset Link : https://www.kaggle.com/competitions/housing-house-prediction-2023-posgraduate-dsub/overview\n",
    "\n",
    "Dataset Overview:\n",
    "\n",
    "This dataset contains information about houses, including details like the number of rooms, type of property, price, method of sale, and location. It's a mix of numbers (like room count, distance to city center) and categories (like suburb names, sales method). These details help us understand what influences house prices. For example, we can see how factors like the size of the property, its location, and other characteristics of the property affect the price. By studying this data, we can develop methods to predict house prices more accurately, which can be useful for buyers, sellers, and real estate professionals in making informed decisions.\n",
    "\n",
    "Features of this Dataset:\n",
    "\n",
    "- Suburb\n",
    "- Address\n",
    "- Rooms\n",
    "- Type\n",
    "- Price\n",
    "- Method\n",
    "- SellerG\n",
    "- Date\n",
    "- Distance\n",
    "- Postcode\n",
    "- Bedroom2\n",
    "- Bathroom\n",
    "- Car\n",
    "- Landsize\n",
    "- BuildingArea\n",
    "- YearBuilt\n",
    "- CouncilArea\n",
    "- Lattitude\n",
    "- Longtitude\n",
    "- Regionname\n",
    "- Propertycount\n",
    "- Year\n",
    "\n",
    "\n",
    "\n"
   ]
  },
  {
   "cell_type": "markdown",
   "metadata": {},
   "source": [
    "## Loading the data"
   ]
  },
  {
   "cell_type": "code",
   "execution_count": 42,
   "metadata": {
    "vscode": {
     "languageId": "r"
    }
   },
   "outputs": [
    {
     "data": {
      "text/html": [
       "<table class=\"dataframe\">\n",
       "<caption>A data.frame: 6 × 24</caption>\n",
       "<thead>\n",
       "\t<tr><th></th><th scope=col>index</th><th scope=col>Suburb</th><th scope=col>Address</th><th scope=col>Rooms</th><th scope=col>Type</th><th scope=col>Price</th><th scope=col>Method</th><th scope=col>SellerG</th><th scope=col>Date</th><th scope=col>Distance</th><th scope=col>⋯</th><th scope=col>Landsize</th><th scope=col>BuildingArea</th><th scope=col>YearBuilt</th><th scope=col>CouncilArea</th><th scope=col>Lattitude</th><th scope=col>Longtitude</th><th scope=col>Regionname</th><th scope=col>Propertycount</th><th scope=col>X</th><th scope=col>year</th></tr>\n",
       "\t<tr><th></th><th scope=col>&lt;int&gt;</th><th scope=col>&lt;chr&gt;</th><th scope=col>&lt;chr&gt;</th><th scope=col>&lt;int&gt;</th><th scope=col>&lt;chr&gt;</th><th scope=col>&lt;int&gt;</th><th scope=col>&lt;chr&gt;</th><th scope=col>&lt;chr&gt;</th><th scope=col>&lt;chr&gt;</th><th scope=col>&lt;dbl&gt;</th><th scope=col>⋯</th><th scope=col>&lt;int&gt;</th><th scope=col>&lt;dbl&gt;</th><th scope=col>&lt;int&gt;</th><th scope=col>&lt;chr&gt;</th><th scope=col>&lt;dbl&gt;</th><th scope=col>&lt;dbl&gt;</th><th scope=col>&lt;chr&gt;</th><th scope=col>&lt;int&gt;</th><th scope=col>&lt;lgl&gt;</th><th scope=col>&lt;int&gt;</th></tr>\n",
       "</thead>\n",
       "<tbody>\n",
       "\t<tr><th scope=row>1</th><td>0</td><td>Aberfeldie       </td><td>241 Buckley St   </td><td>4</td><td>h</td><td>1380000</td><td>VB</td><td>Nelson       </td><td>8/12/2017 </td><td> 7.5</td><td>⋯</td><td>766</td><td>126</td><td>1970</td><td>Moonee Valley</td><td>-37.75595</td><td>144.9055</td><td>Western Metropolitan </td><td> 1543</td><td>NA</td><td>2017</td></tr>\n",
       "\t<tr><th scope=row>2</th><td>1</td><td>Northcote        </td><td>67 Charles St    </td><td>2</td><td>h</td><td>1100000</td><td>SP</td><td>Jellis       </td><td>5/20/2017 </td><td> 5.5</td><td>⋯</td><td>189</td><td>126</td><td>1970</td><td>Darebin      </td><td>-37.77670</td><td>144.9924</td><td>Northern Metropolitan</td><td>11364</td><td>NA</td><td>2017</td></tr>\n",
       "\t<tr><th scope=row>3</th><td>2</td><td>Balwyn North     </td><td>42 Maud St       </td><td>3</td><td>h</td><td>1480000</td><td>PI</td><td>Jellis       </td><td>10/15/2016</td><td> 9.2</td><td>⋯</td><td>605</td><td>116</td><td>1950</td><td>Boroondara   </td><td>-37.79510</td><td>145.0696</td><td>Southern Metropolitan</td><td> 7809</td><td>NA</td><td>2016</td></tr>\n",
       "\t<tr><th scope=row>4</th><td>3</td><td>Brunswick        </td><td>13 Percy St      </td><td>3</td><td>h</td><td>1055000</td><td>S </td><td>Nelson       </td><td>5/7/2016  </td><td> 5.2</td><td>⋯</td><td>324</td><td>126</td><td>1930</td><td>Moreland     </td><td>-37.76530</td><td>144.9586</td><td>Northern Metropolitan</td><td>11918</td><td>NA</td><td>2016</td></tr>\n",
       "\t<tr><th scope=row>5</th><td>4</td><td>Templestowe Lower</td><td>253 Thompsons Rd </td><td>4</td><td>h</td><td>1000000</td><td>VB</td><td>hockingstuart</td><td>8/13/2016 </td><td>13.8</td><td>⋯</td><td>728</td><td>164</td><td>1970</td><td>Manningham   </td><td>-37.76800</td><td>145.1027</td><td>Eastern Metropolitan </td><td> 5420</td><td>NA</td><td>2016</td></tr>\n",
       "\t<tr><th scope=row>6</th><td>5</td><td>Coburg           </td><td>4/34 Gladstone St</td><td>2</td><td>u</td><td> 650000</td><td>S </td><td>Barry        </td><td>4/29/2017 </td><td> 7.8</td><td>⋯</td><td>136</td><td> 81</td><td>1975</td><td>Moreland     </td><td>-37.74490</td><td>144.9754</td><td>Northern Metropolitan</td><td>11204</td><td>NA</td><td>2017</td></tr>\n",
       "</tbody>\n",
       "</table>\n"
      ],
      "text/latex": [
       "A data.frame: 6 × 24\n",
       "\\begin{tabular}{r|lllllllllllllllllllll}\n",
       "  & index & Suburb & Address & Rooms & Type & Price & Method & SellerG & Date & Distance & ⋯ & Landsize & BuildingArea & YearBuilt & CouncilArea & Lattitude & Longtitude & Regionname & Propertycount & X & year\\\\\n",
       "  & <int> & <chr> & <chr> & <int> & <chr> & <int> & <chr> & <chr> & <chr> & <dbl> & ⋯ & <int> & <dbl> & <int> & <chr> & <dbl> & <dbl> & <chr> & <int> & <lgl> & <int>\\\\\n",
       "\\hline\n",
       "\t1 & 0 & Aberfeldie        & 241 Buckley St    & 4 & h & 1380000 & VB & Nelson        & 8/12/2017  &  7.5 & ⋯ & 766 & 126 & 1970 & Moonee Valley & -37.75595 & 144.9055 & Western Metropolitan  &  1543 & NA & 2017\\\\\n",
       "\t2 & 1 & Northcote         & 67 Charles St     & 2 & h & 1100000 & SP & Jellis        & 5/20/2017  &  5.5 & ⋯ & 189 & 126 & 1970 & Darebin       & -37.77670 & 144.9924 & Northern Metropolitan & 11364 & NA & 2017\\\\\n",
       "\t3 & 2 & Balwyn North      & 42 Maud St        & 3 & h & 1480000 & PI & Jellis        & 10/15/2016 &  9.2 & ⋯ & 605 & 116 & 1950 & Boroondara    & -37.79510 & 145.0696 & Southern Metropolitan &  7809 & NA & 2016\\\\\n",
       "\t4 & 3 & Brunswick         & 13 Percy St       & 3 & h & 1055000 & S  & Nelson        & 5/7/2016   &  5.2 & ⋯ & 324 & 126 & 1930 & Moreland      & -37.76530 & 144.9586 & Northern Metropolitan & 11918 & NA & 2016\\\\\n",
       "\t5 & 4 & Templestowe Lower & 253 Thompsons Rd  & 4 & h & 1000000 & VB & hockingstuart & 8/13/2016  & 13.8 & ⋯ & 728 & 164 & 1970 & Manningham    & -37.76800 & 145.1027 & Eastern Metropolitan  &  5420 & NA & 2016\\\\\n",
       "\t6 & 5 & Coburg            & 4/34 Gladstone St & 2 & u &  650000 & S  & Barry         & 4/29/2017  &  7.8 & ⋯ & 136 &  81 & 1975 & Moreland      & -37.74490 & 144.9754 & Northern Metropolitan & 11204 & NA & 2017\\\\\n",
       "\\end{tabular}\n"
      ],
      "text/markdown": [
       "\n",
       "A data.frame: 6 × 24\n",
       "\n",
       "| <!--/--> | index &lt;int&gt; | Suburb &lt;chr&gt; | Address &lt;chr&gt; | Rooms &lt;int&gt; | Type &lt;chr&gt; | Price &lt;int&gt; | Method &lt;chr&gt; | SellerG &lt;chr&gt; | Date &lt;chr&gt; | Distance &lt;dbl&gt; | ⋯ ⋯ | Landsize &lt;int&gt; | BuildingArea &lt;dbl&gt; | YearBuilt &lt;int&gt; | CouncilArea &lt;chr&gt; | Lattitude &lt;dbl&gt; | Longtitude &lt;dbl&gt; | Regionname &lt;chr&gt; | Propertycount &lt;int&gt; | X &lt;lgl&gt; | year &lt;int&gt; |\n",
       "|---|---|---|---|---|---|---|---|---|---|---|---|---|---|---|---|---|---|---|---|---|---|\n",
       "| 1 | 0 | Aberfeldie        | 241 Buckley St    | 4 | h | 1380000 | VB | Nelson        | 8/12/2017  |  7.5 | ⋯ | 766 | 126 | 1970 | Moonee Valley | -37.75595 | 144.9055 | Western Metropolitan  |  1543 | NA | 2017 |\n",
       "| 2 | 1 | Northcote         | 67 Charles St     | 2 | h | 1100000 | SP | Jellis        | 5/20/2017  |  5.5 | ⋯ | 189 | 126 | 1970 | Darebin       | -37.77670 | 144.9924 | Northern Metropolitan | 11364 | NA | 2017 |\n",
       "| 3 | 2 | Balwyn North      | 42 Maud St        | 3 | h | 1480000 | PI | Jellis        | 10/15/2016 |  9.2 | ⋯ | 605 | 116 | 1950 | Boroondara    | -37.79510 | 145.0696 | Southern Metropolitan |  7809 | NA | 2016 |\n",
       "| 4 | 3 | Brunswick         | 13 Percy St       | 3 | h | 1055000 | S  | Nelson        | 5/7/2016   |  5.2 | ⋯ | 324 | 126 | 1930 | Moreland      | -37.76530 | 144.9586 | Northern Metropolitan | 11918 | NA | 2016 |\n",
       "| 5 | 4 | Templestowe Lower | 253 Thompsons Rd  | 4 | h | 1000000 | VB | hockingstuart | 8/13/2016  | 13.8 | ⋯ | 728 | 164 | 1970 | Manningham    | -37.76800 | 145.1027 | Eastern Metropolitan  |  5420 | NA | 2016 |\n",
       "| 6 | 5 | Coburg            | 4/34 Gladstone St | 2 | u |  650000 | S  | Barry         | 4/29/2017  |  7.8 | ⋯ | 136 |  81 | 1975 | Moreland      | -37.74490 | 144.9754 | Northern Metropolitan | 11204 | NA | 2017 |\n",
       "\n"
      ],
      "text/plain": [
       "  index Suburb            Address           Rooms Type Price   Method\n",
       "1 0     Aberfeldie        241 Buckley St    4     h    1380000 VB    \n",
       "2 1     Northcote         67 Charles St     2     h    1100000 SP    \n",
       "3 2     Balwyn North      42 Maud St        3     h    1480000 PI    \n",
       "4 3     Brunswick         13 Percy St       3     h    1055000 S     \n",
       "5 4     Templestowe Lower 253 Thompsons Rd  4     h    1000000 VB    \n",
       "6 5     Coburg            4/34 Gladstone St 2     u     650000 S     \n",
       "  SellerG       Date       Distance ⋯ Landsize BuildingArea YearBuilt\n",
       "1 Nelson        8/12/2017   7.5     ⋯ 766      126          1970     \n",
       "2 Jellis        5/20/2017   5.5     ⋯ 189      126          1970     \n",
       "3 Jellis        10/15/2016  9.2     ⋯ 605      116          1950     \n",
       "4 Nelson        5/7/2016    5.2     ⋯ 324      126          1930     \n",
       "5 hockingstuart 8/13/2016  13.8     ⋯ 728      164          1970     \n",
       "6 Barry         4/29/2017   7.8     ⋯ 136       81          1975     \n",
       "  CouncilArea   Lattitude Longtitude Regionname            Propertycount X \n",
       "1 Moonee Valley -37.75595 144.9055   Western Metropolitan   1543         NA\n",
       "2 Darebin       -37.77670 144.9924   Northern Metropolitan 11364         NA\n",
       "3 Boroondara    -37.79510 145.0696   Southern Metropolitan  7809         NA\n",
       "4 Moreland      -37.76530 144.9586   Northern Metropolitan 11918         NA\n",
       "5 Manningham    -37.76800 145.1027   Eastern Metropolitan   5420         NA\n",
       "6 Moreland      -37.74490 144.9754   Northern Metropolitan 11204         NA\n",
       "  year\n",
       "1 2017\n",
       "2 2017\n",
       "3 2016\n",
       "4 2016\n",
       "5 2016\n",
       "6 2017"
      ]
     },
     "metadata": {},
     "output_type": "display_data"
    }
   ],
   "source": [
    "library(tidyverse)\n",
    "\n",
    "# Read the CSV file into a data frame\n",
    "data <- read.csv(\"house_price_clean.csv\")\n",
    "\n",
    "# View the first few rows of the data frame\n",
    "head(data)"
   ]
  },
  {
   "cell_type": "code",
   "execution_count": 43,
   "metadata": {
    "vscode": {
     "languageId": "r"
    }
   },
   "outputs": [
    {
     "data": {
      "text/html": [
       "<style>\n",
       ".list-inline {list-style: none; margin:0; padding: 0}\n",
       ".list-inline>li {display: inline-block}\n",
       ".list-inline>li:not(:last-child)::after {content: \"\\00b7\"; padding: 0 .5ex}\n",
       "</style>\n",
       "<ol class=list-inline><li>'index'</li><li>'Suburb'</li><li>'Address'</li><li>'Rooms'</li><li>'Type'</li><li>'Price'</li><li>'Method'</li><li>'SellerG'</li><li>'Date'</li><li>'Distance'</li><li>'Postcode'</li><li>'Bedroom2'</li><li>'Bathroom'</li><li>'Car'</li><li>'Landsize'</li><li>'BuildingArea'</li><li>'YearBuilt'</li><li>'CouncilArea'</li><li>'Lattitude'</li><li>'Longtitude'</li><li>'Regionname'</li><li>'Propertycount'</li><li>'X'</li><li>'year'</li></ol>\n"
      ],
      "text/latex": [
       "\\begin{enumerate*}\n",
       "\\item 'index'\n",
       "\\item 'Suburb'\n",
       "\\item 'Address'\n",
       "\\item 'Rooms'\n",
       "\\item 'Type'\n",
       "\\item 'Price'\n",
       "\\item 'Method'\n",
       "\\item 'SellerG'\n",
       "\\item 'Date'\n",
       "\\item 'Distance'\n",
       "\\item 'Postcode'\n",
       "\\item 'Bedroom2'\n",
       "\\item 'Bathroom'\n",
       "\\item 'Car'\n",
       "\\item 'Landsize'\n",
       "\\item 'BuildingArea'\n",
       "\\item 'YearBuilt'\n",
       "\\item 'CouncilArea'\n",
       "\\item 'Lattitude'\n",
       "\\item 'Longtitude'\n",
       "\\item 'Regionname'\n",
       "\\item 'Propertycount'\n",
       "\\item 'X'\n",
       "\\item 'year'\n",
       "\\end{enumerate*}\n"
      ],
      "text/markdown": [
       "1. 'index'\n",
       "2. 'Suburb'\n",
       "3. 'Address'\n",
       "4. 'Rooms'\n",
       "5. 'Type'\n",
       "6. 'Price'\n",
       "7. 'Method'\n",
       "8. 'SellerG'\n",
       "9. 'Date'\n",
       "10. 'Distance'\n",
       "11. 'Postcode'\n",
       "12. 'Bedroom2'\n",
       "13. 'Bathroom'\n",
       "14. 'Car'\n",
       "15. 'Landsize'\n",
       "16. 'BuildingArea'\n",
       "17. 'YearBuilt'\n",
       "18. 'CouncilArea'\n",
       "19. 'Lattitude'\n",
       "20. 'Longtitude'\n",
       "21. 'Regionname'\n",
       "22. 'Propertycount'\n",
       "23. 'X'\n",
       "24. 'year'\n",
       "\n",
       "\n"
      ],
      "text/plain": [
       " [1] \"index\"         \"Suburb\"        \"Address\"       \"Rooms\"        \n",
       " [5] \"Type\"          \"Price\"         \"Method\"        \"SellerG\"      \n",
       " [9] \"Date\"          \"Distance\"      \"Postcode\"      \"Bedroom2\"     \n",
       "[13] \"Bathroom\"      \"Car\"           \"Landsize\"      \"BuildingArea\" \n",
       "[17] \"YearBuilt\"     \"CouncilArea\"   \"Lattitude\"     \"Longtitude\"   \n",
       "[21] \"Regionname\"    \"Propertycount\" \"X\"             \"year\"         "
      ]
     },
     "metadata": {},
     "output_type": "display_data"
    }
   ],
   "source": [
    "colnames(data)"
   ]
  },
  {
   "cell_type": "markdown",
   "metadata": {},
   "source": [
    "## Data Transformation "
   ]
  },
  {
   "cell_type": "code",
   "execution_count": 44,
   "metadata": {
    "vscode": {
     "languageId": "r"
    }
   },
   "outputs": [
    {
     "data": {
      "image/png": "[encoded data removed]",
      "text/plain": [
       "Plot with title \"Histogram of Landsize\""
      ]
     },
     "metadata": {
      "image/png": {
       "height": 420,
       "width": 420
      }
     },
     "output_type": "display_data"
    },
    {
     "data": {
      "image/png": "[encoded data removed]",
      "text/plain": [
       "Plot with title \"Histogram of Price\""
      ]
     },
     "metadata": {
      "image/png": {
       "height": 420,
       "width": 420
      }
     },
     "output_type": "display_data"
    }
   ],
   "source": [
    "#slicing the data\n",
    "data <- data[0:5432,]\n",
    "\n",
    "#reorder the features\n",
    "data_num <-data   %>%\n",
    "  select(Rooms, Distance, Bedroom2, Bathroom,Car,Landsize,BuildingArea,Propertycount,Lattitude,Longtitude,Price)\n",
    "par(mfrow=c(3, 2))\n",
    "\n",
    "# plot the histogram\n",
    "for (col in names(data_num)) {\n",
    "  hist(data[[col]], main=paste(\"Histogram of\", col), xlab=col)\n",
    "}"
   ]
  },
  {
   "cell_type": "markdown",
   "metadata": {},
   "source": [
    "As most of the features are skewed, applying Log transformation to reduce bias due to the skewness.  "
   ]
  },
  {
   "cell_type": "code",
   "execution_count": 45,
   "metadata": {
    "vscode": {
     "languageId": "r"
    }
   },
   "outputs": [],
   "source": [
    "# Apply log transformation to all the features.\n",
    "data$Rooms <- log(data$Rooms)\n",
    "data$Distance <- log(data$Distance)\n",
    "data$Bedroom2 <- log(data$Bedroom2)\n",
    "data$Bathroom <- log(data$Bathroom)\n",
    "data$Car <- log(data$Car)\n",
    "data$Landsize <- log(data$Landsize)\n",
    "data$BuildingArea <- log(data$BuildingArea)\n",
    "data$Propertycount <- log(data$Propertycount)\n",
    "data$Price <- log(data$Price)"
   ]
  },
  {
   "cell_type": "markdown",
   "metadata": {},
   "source": [
    "### Correlation Plot"
   ]
  },
  {
   "cell_type": "code",
   "execution_count": 46,
   "metadata": {
    "vscode": {
     "languageId": "r"
    }
   },
   "outputs": [
    {
     "data": {
      "image/png": "[encoded data removed]",
      "text/plain": [
       "Plot with title \"\""
      ]
     },
     "metadata": {
      "image/png": {
       "height": 420,
       "width": 420
      }
     },
     "output_type": "display_data"
    }
   ],
   "source": [
    "library(corrplot)\n",
    "col4 = colorRampPalette(c(\"black\", \"darkgrey\", \"grey\",\"#CFB87C\"))\n",
    "corrplot(cor(data_num), method = \"ellipse\", col = col4(100),  addCoef.col = \"black\", tl.col = \"black\")"
   ]
  },
  {
   "cell_type": "markdown",
   "metadata": {
    "vscode": {
     "languageId": "r"
    }
   },
   "source": [
    "### Data Cleaning\n",
    "\n",
    "\n",
    "#### Removing (Inf or -Inf) from the dataset\n",
    "\n",
    "When performing a log transformation on data, it's common to encounter situations where certain data points become infinite. To address this issue it is necessary to remove those data points."
   ]
  },
  {
   "cell_type": "code",
   "execution_count": 47,
   "metadata": {
    "vscode": {
     "languageId": "r"
    }
   },
   "outputs": [
    {
     "name": "stdout",
     "output_type": "stream",
     "text": [
      " [1] \"index\"                               \n",
      " [2] \"Suburb\"                              \n",
      " [3] \"Address\"                             \n",
      " [4] \"Rooms\"                               \n",
      " [5] \"Price\"                               \n",
      " [6] \"Method\"                              \n",
      " [7] \"SellerG\"                             \n",
      " [8] \"Date\"                                \n",
      " [9] \"Distance\"                            \n",
      "[10] \"Postcode\"                            \n",
      "[11] \"Bedroom2\"                            \n",
      "[12] \"Bathroom\"                            \n",
      "[13] \"Car\"                                 \n",
      "[14] \"Landsize\"                            \n",
      "[15] \"BuildingArea\"                        \n",
      "[16] \"YearBuilt\"                           \n",
      "[17] \"CouncilArea\"                         \n",
      "[18] \"Lattitude\"                           \n",
      "[19] \"Longtitude\"                          \n",
      "[20] \"Propertycount\"                       \n",
      "[21] \"X\"                                   \n",
      "[22] \"year\"                                \n",
      "[23] \"RegionnameEastern Metropolitan\"      \n",
      "[24] \"RegionnameEastern Victoria\"          \n",
      "[25] \"RegionnameNorthern Metropolitan\"     \n",
      "[26] \"RegionnameNorthern Victoria\"         \n",
      "[27] \"RegionnameSouth-Eastern Metropolitan\"\n",
      "[28] \"RegionnameSouthern Metropolitan\"     \n",
      "[29] \"RegionnameWestern Metropolitan\"      \n",
      "[30] \"RegionnameWestern Victoria\"          \n",
      "[31] \"Typeh\"                               \n",
      "[32] \"Typet\"                               \n",
      "[33] \"Typeu\"                               \n"
     ]
    },
    {
     "data": {
      "text/html": [
       "<table class=\"dataframe\">\n",
       "<caption>A data.frame: 6 × 22</caption>\n",
       "<thead>\n",
       "\t<tr><th></th><th scope=col>Rooms</th><th scope=col>Price</th><th scope=col>Distance</th><th scope=col>Postcode</th><th scope=col>Bedroom2</th><th scope=col>Bathroom</th><th scope=col>Car</th><th scope=col>Landsize</th><th scope=col>BuildingArea</th><th scope=col>Lattitude</th><th scope=col>⋯</th><th scope=col>year</th><th scope=col>RegionnameEasternMetropolitan</th><th scope=col>RegionnameEasternVictoria</th><th scope=col>RegionnameNorthernMetropolitan</th><th scope=col>RegionnameNorthernVictoria</th><th scope=col>RegionnameSouthEasternMetropolitan</th><th scope=col>RegionnameSouthernMetropolitan</th><th scope=col>RegionnameWesternMetropolitan</th><th scope=col>Typeh</th><th scope=col>Typet</th></tr>\n",
       "\t<tr><th></th><th scope=col>&lt;dbl&gt;</th><th scope=col>&lt;dbl&gt;</th><th scope=col>&lt;dbl&gt;</th><th scope=col>&lt;int&gt;</th><th scope=col>&lt;dbl&gt;</th><th scope=col>&lt;dbl&gt;</th><th scope=col>&lt;dbl&gt;</th><th scope=col>&lt;dbl&gt;</th><th scope=col>&lt;dbl&gt;</th><th scope=col>&lt;dbl&gt;</th><th scope=col>⋯</th><th scope=col>&lt;int&gt;</th><th scope=col>&lt;dbl&gt;</th><th scope=col>&lt;dbl&gt;</th><th scope=col>&lt;dbl&gt;</th><th scope=col>&lt;dbl&gt;</th><th scope=col>&lt;dbl&gt;</th><th scope=col>&lt;dbl&gt;</th><th scope=col>&lt;dbl&gt;</th><th scope=col>&lt;dbl&gt;</th><th scope=col>&lt;dbl&gt;</th></tr>\n",
       "</thead>\n",
       "<tbody>\n",
       "\t<tr><th scope=row>1</th><td>1.3862944</td><td>14.13759</td><td>2.014903</td><td>3040</td><td>1.3862944</td><td>0.6931472</td><td>0.6931472</td><td>6.641182</td><td>4.836282</td><td>-37.75595</td><td>⋯</td><td>2017</td><td>0</td><td>0</td><td>0</td><td>0</td><td>0</td><td>0</td><td>1</td><td>1</td><td>0</td></tr>\n",
       "\t<tr><th scope=row>2</th><td>0.6931472</td><td>13.91082</td><td>1.704748</td><td>3070</td><td>0.6931472</td><td>0.0000000</td><td>0.0000000</td><td>5.241747</td><td>4.836282</td><td>-37.77670</td><td>⋯</td><td>2017</td><td>0</td><td>0</td><td>1</td><td>0</td><td>0</td><td>0</td><td>0</td><td>1</td><td>0</td></tr>\n",
       "\t<tr><th scope=row>3</th><td>1.0986123</td><td>14.20755</td><td>2.219203</td><td>3104</td><td>1.0986123</td><td>0.0000000</td><td>1.3862944</td><td>6.405228</td><td>4.753590</td><td>-37.79510</td><td>⋯</td><td>2016</td><td>0</td><td>0</td><td>0</td><td>0</td><td>0</td><td>1</td><td>0</td><td>1</td><td>0</td></tr>\n",
       "\t<tr><th scope=row>4</th><td>1.0986123</td><td>13.86905</td><td>1.648659</td><td>3056</td><td>1.0986123</td><td>0.0000000</td><td>0.0000000</td><td>5.780744</td><td>4.836282</td><td>-37.76530</td><td>⋯</td><td>2016</td><td>0</td><td>0</td><td>1</td><td>0</td><td>0</td><td>0</td><td>0</td><td>1</td><td>0</td></tr>\n",
       "\t<tr><th scope=row>5</th><td>1.3862944</td><td>13.81551</td><td>2.624669</td><td>3107</td><td>1.3862944</td><td>1.0986123</td><td>0.6931472</td><td>6.590301</td><td>5.099866</td><td>-37.76800</td><td>⋯</td><td>2016</td><td>1</td><td>0</td><td>0</td><td>0</td><td>0</td><td>0</td><td>0</td><td>1</td><td>0</td></tr>\n",
       "\t<tr><th scope=row>6</th><td>0.6931472</td><td>13.38473</td><td>2.054124</td><td>3058</td><td>0.6931472</td><td>0.0000000</td><td>0.0000000</td><td>4.912655</td><td>4.394449</td><td>-37.74490</td><td>⋯</td><td>2017</td><td>0</td><td>0</td><td>1</td><td>0</td><td>0</td><td>0</td><td>0</td><td>0</td><td>0</td></tr>\n",
       "</tbody>\n",
       "</table>\n"
      ],
      "text/latex": [
       "A data.frame: 6 × 22\n",
       "\\begin{tabular}{r|lllllllllllllllllllll}\n",
       "  & Rooms & Price & Distance & Postcode & Bedroom2 & Bathroom & Car & Landsize & BuildingArea & Lattitude & ⋯ & year & RegionnameEasternMetropolitan & RegionnameEasternVictoria & RegionnameNorthernMetropolitan & RegionnameNorthernVictoria & RegionnameSouthEasternMetropolitan & RegionnameSouthernMetropolitan & RegionnameWesternMetropolitan & Typeh & Typet\\\\\n",
       "  & <dbl> & <dbl> & <dbl> & <int> & <dbl> & <dbl> & <dbl> & <dbl> & <dbl> & <dbl> & ⋯ & <int> & <dbl> & <dbl> & <dbl> & <dbl> & <dbl> & <dbl> & <dbl> & <dbl> & <dbl>\\\\\n",
       "\\hline\n",
       "\t1 & 1.3862944 & 14.13759 & 2.014903 & 3040 & 1.3862944 & 0.6931472 & 0.6931472 & 6.641182 & 4.836282 & -37.75595 & ⋯ & 2017 & 0 & 0 & 0 & 0 & 0 & 0 & 1 & 1 & 0\\\\\n",
       "\t2 & 0.6931472 & 13.91082 & 1.704748 & 3070 & 0.6931472 & 0.0000000 & 0.0000000 & 5.241747 & 4.836282 & -37.77670 & ⋯ & 2017 & 0 & 0 & 1 & 0 & 0 & 0 & 0 & 1 & 0\\\\\n",
       "\t3 & 1.0986123 & 14.20755 & 2.219203 & 3104 & 1.0986123 & 0.0000000 & 1.3862944 & 6.405228 & 4.753590 & -37.79510 & ⋯ & 2016 & 0 & 0 & 0 & 0 & 0 & 1 & 0 & 1 & 0\\\\\n",
       "\t4 & 1.0986123 & 13.86905 & 1.648659 & 3056 & 1.0986123 & 0.0000000 & 0.0000000 & 5.780744 & 4.836282 & -37.76530 & ⋯ & 2016 & 0 & 0 & 1 & 0 & 0 & 0 & 0 & 1 & 0\\\\\n",
       "\t5 & 1.3862944 & 13.81551 & 2.624669 & 3107 & 1.3862944 & 1.0986123 & 0.6931472 & 6.590301 & 5.099866 & -37.76800 & ⋯ & 2016 & 1 & 0 & 0 & 0 & 0 & 0 & 0 & 1 & 0\\\\\n",
       "\t6 & 0.6931472 & 13.38473 & 2.054124 & 3058 & 0.6931472 & 0.0000000 & 0.0000000 & 4.912655 & 4.394449 & -37.74490 & ⋯ & 2017 & 0 & 0 & 1 & 0 & 0 & 0 & 0 & 0 & 0\\\\\n",
       "\\end{tabular}\n"
      ],
      "text/markdown": [
       "\n",
       "A data.frame: 6 × 22\n",
       "\n",
       "| <!--/--> | Rooms &lt;dbl&gt; | Price &lt;dbl&gt; | Distance &lt;dbl&gt; | Postcode &lt;int&gt; | Bedroom2 &lt;dbl&gt; | Bathroom &lt;dbl&gt; | Car &lt;dbl&gt; | Landsize &lt;dbl&gt; | BuildingArea &lt;dbl&gt; | Lattitude &lt;dbl&gt; | ⋯ ⋯ | year &lt;int&gt; | RegionnameEasternMetropolitan &lt;dbl&gt; | RegionnameEasternVictoria &lt;dbl&gt; | RegionnameNorthernMetropolitan &lt;dbl&gt; | RegionnameNorthernVictoria &lt;dbl&gt; | RegionnameSouthEasternMetropolitan &lt;dbl&gt; | RegionnameSouthernMetropolitan &lt;dbl&gt; | RegionnameWesternMetropolitan &lt;dbl&gt; | Typeh &lt;dbl&gt; | Typet &lt;dbl&gt; |\n",
       "|---|---|---|---|---|---|---|---|---|---|---|---|---|---|---|---|---|---|---|---|---|---|\n",
       "| 1 | 1.3862944 | 14.13759 | 2.014903 | 3040 | 1.3862944 | 0.6931472 | 0.6931472 | 6.641182 | 4.836282 | -37.75595 | ⋯ | 2017 | 0 | 0 | 0 | 0 | 0 | 0 | 1 | 1 | 0 |\n",
       "| 2 | 0.6931472 | 13.91082 | 1.704748 | 3070 | 0.6931472 | 0.0000000 | 0.0000000 | 5.241747 | 4.836282 | -37.77670 | ⋯ | 2017 | 0 | 0 | 1 | 0 | 0 | 0 | 0 | 1 | 0 |\n",
       "| 3 | 1.0986123 | 14.20755 | 2.219203 | 3104 | 1.0986123 | 0.0000000 | 1.3862944 | 6.405228 | 4.753590 | -37.79510 | ⋯ | 2016 | 0 | 0 | 0 | 0 | 0 | 1 | 0 | 1 | 0 |\n",
       "| 4 | 1.0986123 | 13.86905 | 1.648659 | 3056 | 1.0986123 | 0.0000000 | 0.0000000 | 5.780744 | 4.836282 | -37.76530 | ⋯ | 2016 | 0 | 0 | 1 | 0 | 0 | 0 | 0 | 1 | 0 |\n",
       "| 5 | 1.3862944 | 13.81551 | 2.624669 | 3107 | 1.3862944 | 1.0986123 | 0.6931472 | 6.590301 | 5.099866 | -37.76800 | ⋯ | 2016 | 1 | 0 | 0 | 0 | 0 | 0 | 0 | 1 | 0 |\n",
       "| 6 | 0.6931472 | 13.38473 | 2.054124 | 3058 | 0.6931472 | 0.0000000 | 0.0000000 | 4.912655 | 4.394449 | -37.74490 | ⋯ | 2017 | 0 | 0 | 1 | 0 | 0 | 0 | 0 | 0 | 0 |\n",
       "\n"
      ],
      "text/plain": [
       "  Rooms     Price    Distance Postcode Bedroom2  Bathroom  Car       Landsize\n",
       "1 1.3862944 14.13759 2.014903 3040     1.3862944 0.6931472 0.6931472 6.641182\n",
       "2 0.6931472 13.91082 1.704748 3070     0.6931472 0.0000000 0.0000000 5.241747\n",
       "3 1.0986123 14.20755 2.219203 3104     1.0986123 0.0000000 1.3862944 6.405228\n",
       "4 1.0986123 13.86905 1.648659 3056     1.0986123 0.0000000 0.0000000 5.780744\n",
       "5 1.3862944 13.81551 2.624669 3107     1.3862944 1.0986123 0.6931472 6.590301\n",
       "6 0.6931472 13.38473 2.054124 3058     0.6931472 0.0000000 0.0000000 4.912655\n",
       "  BuildingArea Lattitude ⋯ year RegionnameEasternMetropolitan\n",
       "1 4.836282     -37.75595 ⋯ 2017 0                            \n",
       "2 4.836282     -37.77670 ⋯ 2017 0                            \n",
       "3 4.753590     -37.79510 ⋯ 2016 0                            \n",
       "4 4.836282     -37.76530 ⋯ 2016 0                            \n",
       "5 5.099866     -37.76800 ⋯ 2016 1                            \n",
       "6 4.394449     -37.74490 ⋯ 2017 0                            \n",
       "  RegionnameEasternVictoria RegionnameNorthernMetropolitan\n",
       "1 0                         0                             \n",
       "2 0                         1                             \n",
       "3 0                         0                             \n",
       "4 0                         1                             \n",
       "5 0                         0                             \n",
       "6 0                         1                             \n",
       "  RegionnameNorthernVictoria RegionnameSouthEasternMetropolitan\n",
       "1 0                          0                                 \n",
       "2 0                          0                                 \n",
       "3 0                          0                                 \n",
       "4 0                          0                                 \n",
       "5 0                          0                                 \n",
       "6 0                          0                                 \n",
       "  RegionnameSouthernMetropolitan RegionnameWesternMetropolitan Typeh Typet\n",
       "1 0                              1                             1     0    \n",
       "2 0                              0                             1     0    \n",
       "3 1                              0                             1     0    \n",
       "4 0                              0                             1     0    \n",
       "5 0                              0                             1     0    \n",
       "6 0                              0                             0     0    "
      ]
     },
     "metadata": {},
     "output_type": "display_data"
    }
   ],
   "source": [
    "#remove infinity values\n",
    "d <- data[!apply(data, 1, function(row) any(is.infinite(row))), , drop = FALSE]\n",
    "\n",
    "#replace -infinity to NA values\n",
    "d <- replace(d, d == -Inf, NA)\n",
    "\n",
    "#One hot encoding\n",
    "d <- cbind(d, model.matrix(~ Regionname - 1, data = d))\n",
    "d <- d[, -which(names(d) == \"Regionname\")]\n",
    "d <- cbind(d, model.matrix(~ Type - 1, data = d))\n",
    "d <- d[, -which(names(d) == \"Type\")]\n",
    "\n",
    "# remove Nan\n",
    "# d <-  d[complete.cases(d), ]\n",
    "print(colnames(d))\n",
    "#remove unused columns\n",
    "d <- d[, -which(names(d) %in% c('index','Suburb','Method','SellerG','YearBuilt','CouncilArea','Date','X','Address','Typeu','RegionnameWestern Victoria'))]\n",
    "\n",
    "\n",
    "\n",
    "#clean column names\n",
    "colnames(d) <- gsub(\"\\\\s+\", \"\", colnames(d))\n",
    "colnames(d) <- gsub(\"-\", \"\", colnames(d))\n",
    "\n",
    "head(d)"
   ]
  },
  {
   "cell_type": "code",
   "execution_count": 48,
   "metadata": {
    "vscode": {
     "languageId": "r"
    }
   },
   "outputs": [
    {
     "data": {
      "text/html": [
       "<style>\n",
       ".list-inline {list-style: none; margin:0; padding: 0}\n",
       ".list-inline>li {display: inline-block}\n",
       ".list-inline>li:not(:last-child)::after {content: \"\\00b7\"; padding: 0 .5ex}\n",
       "</style>\n",
       "<ol class=list-inline><li>'Rooms'</li><li>'Price'</li><li>'Distance'</li><li>'Postcode'</li><li>'Bedroom2'</li><li>'Bathroom'</li><li>'Car'</li><li>'Landsize'</li><li>'BuildingArea'</li><li>'Lattitude'</li><li>'Longtitude'</li><li>'Propertycount'</li><li>'year'</li><li>'RegionnameEasternMetropolitan'</li><li>'RegionnameEasternVictoria'</li><li>'RegionnameNorthernMetropolitan'</li><li>'RegionnameNorthernVictoria'</li><li>'RegionnameSouthEasternMetropolitan'</li><li>'RegionnameSouthernMetropolitan'</li><li>'RegionnameWesternMetropolitan'</li><li>'Typeh'</li><li>'Typet'</li></ol>\n"
      ],
      "text/latex": [
       "\\begin{enumerate*}\n",
       "\\item 'Rooms'\n",
       "\\item 'Price'\n",
       "\\item 'Distance'\n",
       "\\item 'Postcode'\n",
       "\\item 'Bedroom2'\n",
       "\\item 'Bathroom'\n",
       "\\item 'Car'\n",
       "\\item 'Landsize'\n",
       "\\item 'BuildingArea'\n",
       "\\item 'Lattitude'\n",
       "\\item 'Longtitude'\n",
       "\\item 'Propertycount'\n",
       "\\item 'year'\n",
       "\\item 'RegionnameEasternMetropolitan'\n",
       "\\item 'RegionnameEasternVictoria'\n",
       "\\item 'RegionnameNorthernMetropolitan'\n",
       "\\item 'RegionnameNorthernVictoria'\n",
       "\\item 'RegionnameSouthEasternMetropolitan'\n",
       "\\item 'RegionnameSouthernMetropolitan'\n",
       "\\item 'RegionnameWesternMetropolitan'\n",
       "\\item 'Typeh'\n",
       "\\item 'Typet'\n",
       "\\end{enumerate*}\n"
      ],
      "text/markdown": [
       "1. 'Rooms'\n",
       "2. 'Price'\n",
       "3. 'Distance'\n",
       "4. 'Postcode'\n",
       "5. 'Bedroom2'\n",
       "6. 'Bathroom'\n",
       "7. 'Car'\n",
       "8. 'Landsize'\n",
       "9. 'BuildingArea'\n",
       "10. 'Lattitude'\n",
       "11. 'Longtitude'\n",
       "12. 'Propertycount'\n",
       "13. 'year'\n",
       "14. 'RegionnameEasternMetropolitan'\n",
       "15. 'RegionnameEasternVictoria'\n",
       "16. 'RegionnameNorthernMetropolitan'\n",
       "17. 'RegionnameNorthernVictoria'\n",
       "18. 'RegionnameSouthEasternMetropolitan'\n",
       "19. 'RegionnameSouthernMetropolitan'\n",
       "20. 'RegionnameWesternMetropolitan'\n",
       "21. 'Typeh'\n",
       "22. 'Typet'\n",
       "\n",
       "\n"
      ],
      "text/plain": [
       " [1] \"Rooms\"                              \"Price\"                             \n",
       " [3] \"Distance\"                           \"Postcode\"                          \n",
       " [5] \"Bedroom2\"                           \"Bathroom\"                          \n",
       " [7] \"Car\"                                \"Landsize\"                          \n",
       " [9] \"BuildingArea\"                       \"Lattitude\"                         \n",
       "[11] \"Longtitude\"                         \"Propertycount\"                     \n",
       "[13] \"year\"                               \"RegionnameEasternMetropolitan\"     \n",
       "[15] \"RegionnameEasternVictoria\"          \"RegionnameNorthernMetropolitan\"    \n",
       "[17] \"RegionnameNorthernVictoria\"         \"RegionnameSouthEasternMetropolitan\"\n",
       "[19] \"RegionnameSouthernMetropolitan\"     \"RegionnameWesternMetropolitan\"     \n",
       "[21] \"Typeh\"                              \"Typet\"                             "
      ]
     },
     "metadata": {},
     "output_type": "display_data"
    }
   ],
   "source": [
    "colnames(d)"
   ]
  },
  {
   "cell_type": "code",
   "execution_count": 49,
   "metadata": {
    "vscode": {
     "languageId": "r"
    }
   },
   "outputs": [],
   "source": [
    "d <- d[complete.cases(d), ]\n"
   ]
  },
  {
   "cell_type": "markdown",
   "metadata": {},
   "source": [
    "## Exploratory Data Analysis"
   ]
  },
  {
   "cell_type": "markdown",
   "metadata": {},
   "source": [
    "### Types of houses in Autralia \n",
    "\n",
    "\n",
    "There are three typee of categories in this dataset and the following are the key for the types of the column.\n",
    "\n",
    "* h - House, Cottage, Villa ,Semi, Terrace\n",
    "* u - Unit, Duplex\n",
    "* t - Townhouse"
   ]
  },
  {
   "cell_type": "code",
   "execution_count": 50,
   "metadata": {
    "vscode": {
     "languageId": "r"
    }
   },
   "outputs": [
    {
     "data": {
      "image/png": "[encoded data removed]",
      "text/plain": [
       "Plot with title \"Types of Residential Properties\""
      ]
     },
     "metadata": {
      "image/png": {
       "height": 420,
       "width": 420
      }
     },
     "output_type": "display_data"
    }
   ],
   "source": [
    "barplot(table(as.factor(data$Type)),main = \"Types of Residential Properties\", xlab = \"Types of houses\", ylab = \"Count\")"
   ]
  },
  {
   "cell_type": "markdown",
   "metadata": {},
   "source": [
    "\n",
    "We can see that the house type is significantly more than the other types like townhouses and duplex units. Around more than 3500 units of houses, 500 townhouses and then 1500 duplex units."
   ]
  },
  {
   "cell_type": "markdown",
   "metadata": {
    "vscode": {
     "languageId": "r"
    }
   },
   "source": [
    "### Properties in Different Regions"
   ]
  },
  {
   "cell_type": "code",
   "execution_count": 51,
   "metadata": {
    "vscode": {
     "languageId": "r"
    }
   },
   "outputs": [
    {
     "data": {
      "image/png": "[encoded data removed]",
      "text/plain": [
       "Plot with title \"Different Regions\""
      ]
     },
     "metadata": {
      "image/png": {
       "height": 420,
       "width": 420
      }
     },
     "output_type": "display_data"
    }
   ],
   "source": [
    "par(mar = c(10, 10, 4, 5))  \n",
    "barplot(table(as.factor(data$Regionname)),main = \"Different Regions\", xlab = \"Types of houses\",horiz = TRUE,las = 1)"
   ]
  },
  {
   "cell_type": "markdown",
   "metadata": {
    "vscode": {
     "languageId": "r"
    }
   },
   "source": [
    "The Southern Metropolitan region has the highest number of houses whereas the Victoria regions such as Western Victoria, Northern Victoria and Eastern Victoria has lowest properties. This information can be valuable for land promotors to make investments in these locations."
   ]
  },
  {
   "cell_type": "markdown",
   "metadata": {},
   "source": [
    "# Statistical Analysis on Australian House Price Prediction \n",
    "\n",
    "\n",
    "## 1. Hypothesis Testing\n",
    "\n",
    "In this analyses we will test the hypothesis. **Whether the Average Distance from the Central Business District of Australia residential property is 6.87Kms or not**.\n",
    "\n",
    "$H_0 = \\text{The Average distance from the Central Business District of Australian Residential Property is equal to 6.87kms}$\n",
    "\n",
    "\n",
    "$H_A =\\text{ The Average distance from the Central Business District of Australian Residential Property is not equal to 6.87 kms}$\n",
    "\n",
    "Since we do not know the population variance, so using the T-test would give accurate results.\n",
    "\n",
    "\n",
    "To ensure robust results, we take sample under the 30 rows, as it provided enough observations to reliable estimation of the population average of the distance from Central Business District."
   ]
  },
  {
   "cell_type": "code",
   "execution_count": 52,
   "metadata": {
    "vscode": {
     "languageId": "r"
    }
   },
   "outputs": [
    {
     "name": "stdout",
     "output_type": "stream",
     "text": [
      "Test Statistic: -44.94522 \n",
      "P-value: 6.427343e-27 \n",
      "Reject the null hypothesis. There is evidence to support the claim that the average distance from CBD in Australia is different from 6.7 kilometers.\n"
     ]
    }
   ],
   "source": [
    "\n",
    "distance <- d$Distance\n",
    "\n",
    "\n",
    "distance <- sample(d$Distance,28)\n",
    "\n",
    "#cal mean and sd\n",
    "sample_mean <- mean(distance)\n",
    "sample_sd <- sd(distance)\n",
    "\n",
    "#assummed value\n",
    "assume_value <- 6.7\n",
    "\n",
    "# t-test (one sample)\n",
    "test_result <- t.test(distance, mu = assume_value)\n",
    "\n",
    "# get the results\n",
    "test_statistic <- test_result$statistic\n",
    "p_value <- test_result$p.value\n",
    "\n",
    "cat(\"Test Statistic:\", test_statistic, \"\\n\")\n",
    "cat(\"P-value:\", p_value, \"\\n\")\n",
    "\n",
    "sig <- 0.05\n",
    "if (p_value < 0.05) {\n",
    "  cat(\"Reject the null hypothesis. There is evidence to support the claim that the average distance from CBD in Australia is different from 6.7 kilometers.\\n\")\n",
    "} else {\n",
    "  cat(\"Fail to reject the null hypothesis. There is not enough evidence to conclude that the average distance from CBD in Australia is different from 6.7 kilometers.\\n\")\n",
    "}\n"
   ]
  },
  {
   "cell_type": "markdown",
   "metadata": {},
   "source": [
    "From the results we can conclude that we reject the null hypothesis in favour of the distance from the CBD for an Australian Residential property is not equal to 6.87kms."
   ]
  },
  {
   "cell_type": "markdown",
   "metadata": {},
   "source": [
    "## 2. Confidence Interval\n",
    "\n",
    "It can be found using the confidence interval method in which the range of the population parameters likely to be present based on the confidence and the margin of error in the data. It is very helpful in inferential statistics by providing the width of population parameters helping in decision making process.\n",
    "\n",
    "\n",
    "**Finding the mean sale price of the houses in Australia, assuming this data as the sample using the confidence interval based on the charateristics of sample data and confidence level (95%).** \n",
    "\n",
    "\n",
    "\n",
    "\n",
    "\n",
    "\n",
    "\n"
   ]
  },
  {
   "cell_type": "code",
   "execution_count": 53,
   "metadata": {
    "vscode": {
     "languageId": "r"
    }
   },
   "outputs": [
    {
     "name": "stdout",
     "output_type": "stream",
     "text": [
      "Confidence Interval ( 95 %): [ 1127405 ,  1167025 ]\n"
     ]
    }
   ],
   "source": [
    "# confidence level 95%\n",
    "conf <- 0.95 \n",
    "#retransform the log using exp() \n",
    "sale_price <- exp(d$Price)\n",
    "\n",
    "# find the mean and std error\n",
    "s_mean <- mean(sale_price)\n",
    "s_sd <- sd(sale_price)\n",
    "std_error <- s_sd / sqrt(length(sale_price))\n",
    "\n",
    "# Calculate the margin of error\n",
    "z_value <- qnorm((1 + conf) / 2)\n",
    "m_error <- z_value * std_error\n",
    "\n",
    "# Calculate the confidence interval\n",
    "lower_limit <- s_mean - m_error\n",
    "upper_limit <- s_mean + m_error\n",
    "\n",
    "# Output the confidence interval\n",
    "cat(\"Confidence Interval (\", conf * 100, \"%): [\", lower_limit, \", \", upper_limit, \"]\\n\")"
   ]
  },
  {
   "cell_type": "markdown",
   "metadata": {
    "vscode": {
     "languageId": "r"
    }
   },
   "source": [
    "Based on the results, we can conclude that the Average price of the Australian house will fall inbetween 1127405 and 1167025. "
   ]
  },
  {
   "cell_type": "markdown",
   "metadata": {},
   "source": [
    "### 3. Regression Modeling "
   ]
  },
  {
   "cell_type": "markdown",
   "metadata": {
    "vscode": {
     "languageId": "r"
    }
   },
   "source": [
    "Regression modelling involve in finding the mathematical relationship between the independent variables and the dependent variables, they mostly used to predict the dependent variables based on the change of independent variables.\n",
    "\n",
    "**Predicting the price of the residential property based on the independent features like the numbers of rooms, distance from the CBD, number of bedrooms, number of bathrooms, number of cars, the landsize, building area, number of property in the community and the location metrics.**\n",
    "\n"
   ]
  },
  {
   "cell_type": "code",
   "execution_count": 54,
   "metadata": {
    "vscode": {
     "languageId": "r"
    }
   },
   "outputs": [
    {
     "data": {
      "text/html": [
       "<style>\n",
       ".list-inline {list-style: none; margin:0; padding: 0}\n",
       ".list-inline>li {display: inline-block}\n",
       ".list-inline>li:not(:last-child)::after {content: \"\\00b7\"; padding: 0 .5ex}\n",
       "</style>\n",
       "<ol class=list-inline><li>'Rooms'</li><li>'Price'</li><li>'Distance'</li><li>'Postcode'</li><li>'Bedroom2'</li><li>'Bathroom'</li><li>'Car'</li><li>'Landsize'</li><li>'BuildingArea'</li><li>'Lattitude'</li><li>'Longtitude'</li><li>'Propertycount'</li><li>'year'</li><li>'RegionnameEasternMetropolitan'</li><li>'RegionnameEasternVictoria'</li><li>'RegionnameNorthernMetropolitan'</li><li>'RegionnameNorthernVictoria'</li><li>'RegionnameSouthEasternMetropolitan'</li><li>'RegionnameSouthernMetropolitan'</li><li>'RegionnameWesternMetropolitan'</li><li>'Typeh'</li><li>'Typet'</li></ol>\n"
      ],
      "text/latex": [
       "\\begin{enumerate*}\n",
       "\\item 'Rooms'\n",
       "\\item 'Price'\n",
       "\\item 'Distance'\n",
       "\\item 'Postcode'\n",
       "\\item 'Bedroom2'\n",
       "\\item 'Bathroom'\n",
       "\\item 'Car'\n",
       "\\item 'Landsize'\n",
       "\\item 'BuildingArea'\n",
       "\\item 'Lattitude'\n",
       "\\item 'Longtitude'\n",
       "\\item 'Propertycount'\n",
       "\\item 'year'\n",
       "\\item 'RegionnameEasternMetropolitan'\n",
       "\\item 'RegionnameEasternVictoria'\n",
       "\\item 'RegionnameNorthernMetropolitan'\n",
       "\\item 'RegionnameNorthernVictoria'\n",
       "\\item 'RegionnameSouthEasternMetropolitan'\n",
       "\\item 'RegionnameSouthernMetropolitan'\n",
       "\\item 'RegionnameWesternMetropolitan'\n",
       "\\item 'Typeh'\n",
       "\\item 'Typet'\n",
       "\\end{enumerate*}\n"
      ],
      "text/markdown": [
       "1. 'Rooms'\n",
       "2. 'Price'\n",
       "3. 'Distance'\n",
       "4. 'Postcode'\n",
       "5. 'Bedroom2'\n",
       "6. 'Bathroom'\n",
       "7. 'Car'\n",
       "8. 'Landsize'\n",
       "9. 'BuildingArea'\n",
       "10. 'Lattitude'\n",
       "11. 'Longtitude'\n",
       "12. 'Propertycount'\n",
       "13. 'year'\n",
       "14. 'RegionnameEasternMetropolitan'\n",
       "15. 'RegionnameEasternVictoria'\n",
       "16. 'RegionnameNorthernMetropolitan'\n",
       "17. 'RegionnameNorthernVictoria'\n",
       "18. 'RegionnameSouthEasternMetropolitan'\n",
       "19. 'RegionnameSouthernMetropolitan'\n",
       "20. 'RegionnameWesternMetropolitan'\n",
       "21. 'Typeh'\n",
       "22. 'Typet'\n",
       "\n",
       "\n"
      ],
      "text/plain": [
       " [1] \"Rooms\"                              \"Price\"                             \n",
       " [3] \"Distance\"                           \"Postcode\"                          \n",
       " [5] \"Bedroom2\"                           \"Bathroom\"                          \n",
       " [7] \"Car\"                                \"Landsize\"                          \n",
       " [9] \"BuildingArea\"                       \"Lattitude\"                         \n",
       "[11] \"Longtitude\"                         \"Propertycount\"                     \n",
       "[13] \"year\"                               \"RegionnameEasternMetropolitan\"     \n",
       "[15] \"RegionnameEasternVictoria\"          \"RegionnameNorthernMetropolitan\"    \n",
       "[17] \"RegionnameNorthernVictoria\"         \"RegionnameSouthEasternMetropolitan\"\n",
       "[19] \"RegionnameSouthernMetropolitan\"     \"RegionnameWesternMetropolitan\"     \n",
       "[21] \"Typeh\"                              \"Typet\"                             "
      ]
     },
     "metadata": {},
     "output_type": "display_data"
    }
   ],
   "source": [
    "colnames(d)"
   ]
  },
  {
   "cell_type": "code",
   "execution_count": 55,
   "metadata": {
    "vscode": {
     "languageId": "r"
    }
   },
   "outputs": [],
   "source": [
    "#fit the full model\n",
    "mlr_model <- lm(Price ~ . , data = d)"
   ]
  },
  {
   "cell_type": "code",
   "execution_count": 56,
   "metadata": {
    "vscode": {
     "languageId": "r"
    }
   },
   "outputs": [
    {
     "data": {
      "text/plain": [
       "\n",
       "Call:\n",
       "lm(formula = Price ~ ., data = d)\n",
       "\n",
       "Residuals:\n",
       "     Min       1Q   Median       3Q      Max \n",
       "-1.93750 -0.17349 -0.01316  0.17012  1.37200 \n",
       "\n",
       "Coefficients:\n",
       "                                     Estimate Std. Error t value Pr(>|t|)    \n",
       "(Intercept)                        -1.685e+02  2.126e+01  -7.923 2.93e-15 ***\n",
       "Rooms                               3.706e-01  4.543e-02   8.157 4.47e-16 ***\n",
       "Distance                           -4.188e-01  9.748e-03 -42.960  < 2e-16 ***\n",
       "Postcode                           -1.879e-04  5.901e-05  -3.184 0.001463 ** \n",
       "Bedroom2                            9.790e-02  4.434e-02   2.208 0.027315 *  \n",
       "Bathroom                            1.377e-01  1.291e-02  10.661  < 2e-16 ***\n",
       "Car                                 6.677e-02  1.072e-02   6.228 5.18e-10 ***\n",
       "Landsize                            3.011e-02  6.318e-03   4.766 1.94e-06 ***\n",
       "BuildingArea                        1.108e-01  1.051e-02  10.543  < 2e-16 ***\n",
       "Lattitude                          -6.607e-01  8.277e-02  -7.982 1.83e-15 ***\n",
       "Longtitude                          9.545e-01  7.600e-02  12.561  < 2e-16 ***\n",
       "Propertycount                       2.053e-03  6.725e-03   0.305 0.760143    \n",
       "year                                9.255e-03  8.762e-03   1.056 0.290921    \n",
       "RegionnameEasternMetropolitan       4.992e-02  8.561e-02   0.583 0.559825    \n",
       "RegionnameEasternVictoria          -2.822e-01  1.091e-01  -2.587 0.009701 ** \n",
       "RegionnameNorthernMetropolitan     -8.533e-02  8.074e-02  -1.057 0.290681    \n",
       "RegionnameNorthernVictoria          1.966e-01  1.018e-01   1.931 0.053557 .  \n",
       "RegionnameSouthEasternMetropolitan -7.887e-02  8.901e-02  -0.886 0.375632    \n",
       "RegionnameSouthernMetropolitan      2.976e-01  8.264e-02   3.601 0.000321 ***\n",
       "RegionnameWesternMetropolitan      -5.372e-04  7.753e-02  -0.007 0.994472    \n",
       "Typeh                               4.498e-01  1.506e-02  29.874  < 2e-16 ***\n",
       "Typet                               2.277e-01  1.947e-02  11.698  < 2e-16 ***\n",
       "---\n",
       "Signif. codes:  0 '***' 0.001 '**' 0.01 '*' 0.05 '.' 0.1 ' ' 1\n",
       "\n",
       "Residual standard error: 0.2731 on 4309 degrees of freedom\n",
       "Multiple R-squared:  0.7096,\tAdjusted R-squared:  0.7082 \n",
       "F-statistic: 501.5 on 21 and 4309 DF,  p-value: < 2.2e-16\n"
      ]
     },
     "metadata": {},
     "output_type": "display_data"
    }
   ],
   "source": [
    "summary(mlr_model)"
   ]
  },
  {
   "cell_type": "markdown",
   "metadata": {
    "vscode": {
     "languageId": "r"
    }
   },
   "source": [
    "###        4.    F-Test\n",
    "\n",
    "Assuming the significance level  $\\alpha = 0.05 $ to determine if atleast one of the features is related to the response variable Y\n",
    "\n",
    "\n",
    "\n",
    "$H_o = $ No Feature is related to the response variable \"Price\"\n",
    "\n",
    "\n",
    "$H_A = $ Atleast one feature is related to the response variable \"Price\" "
   ]
  },
  {
   "cell_type": "code",
   "execution_count": 57,
   "metadata": {
    "vscode": {
     "languageId": "r"
    }
   },
   "outputs": [
    {
     "data": {
      "text/html": [
       "<table class=\"dataframe\">\n",
       "<caption>A anova: 22 × 5</caption>\n",
       "<thead>\n",
       "\t<tr><th></th><th scope=col>Df</th><th scope=col>Sum Sq</th><th scope=col>Mean Sq</th><th scope=col>F value</th><th scope=col>Pr(&gt;F)</th></tr>\n",
       "\t<tr><th></th><th scope=col>&lt;int&gt;</th><th scope=col>&lt;dbl&gt;</th><th scope=col>&lt;dbl&gt;</th><th scope=col>&lt;dbl&gt;</th><th scope=col>&lt;dbl&gt;</th></tr>\n",
       "</thead>\n",
       "<tbody>\n",
       "\t<tr><th scope=row>Rooms</th><td>   1</td><td>255.34903023</td><td>255.34903023</td><td>3423.3555380</td><td> 0.000000e+00</td></tr>\n",
       "\t<tr><th scope=row>Distance</th><td>   1</td><td>181.73813355</td><td>181.73813355</td><td>2436.4856424</td><td> 0.000000e+00</td></tr>\n",
       "\t<tr><th scope=row>Postcode</th><td>   1</td><td> 40.98840368</td><td> 40.98840368</td><td> 549.5140460</td><td>1.776842e-114</td></tr>\n",
       "\t<tr><th scope=row>Bedroom2</th><td>   1</td><td>  1.98846725</td><td>  1.98846725</td><td>  26.6585324</td><td> 2.537229e-07</td></tr>\n",
       "\t<tr><th scope=row>Bathroom</th><td>   1</td><td> 18.90383893</td><td> 18.90383893</td><td> 253.4357058</td><td> 1.719640e-55</td></tr>\n",
       "\t<tr><th scope=row>Car</th><td>   1</td><td> 17.15813354</td><td> 17.15813354</td><td> 230.0317782</td><td> 1.167721e-50</td></tr>\n",
       "\t<tr><th scope=row>Landsize</th><td>   1</td><td>  7.79436522</td><td>  7.79436522</td><td> 104.4957300</td><td> 2.973826e-24</td></tr>\n",
       "\t<tr><th scope=row>BuildingArea</th><td>   1</td><td> 16.02735855</td><td> 16.02735855</td><td> 214.8719602</td><td> 1.627796e-47</td></tr>\n",
       "\t<tr><th scope=row>Lattitude</th><td>   1</td><td> 68.48079419</td><td> 68.48079419</td><td> 918.0927996</td><td>5.425940e-183</td></tr>\n",
       "\t<tr><th scope=row>Longtitude</th><td>   1</td><td> 41.59372782</td><td> 41.59372782</td><td> 557.6293685</td><td>4.844356e-116</td></tr>\n",
       "\t<tr><th scope=row>Propertycount</th><td>   1</td><td>  0.13725424</td><td>  0.13725424</td><td>   1.8401091</td><td> 1.750092e-01</td></tr>\n",
       "\t<tr><th scope=row>year</th><td>   1</td><td>  1.43409749</td><td>  1.43409749</td><td>  19.2263334</td><td> 1.188696e-05</td></tr>\n",
       "\t<tr><th scope=row>RegionnameEasternMetropolitan</th><td>   1</td><td>  0.05641666</td><td>  0.05641666</td><td>   0.7563542</td><td> 3.845203e-01</td></tr>\n",
       "\t<tr><th scope=row>RegionnameEasternVictoria</th><td>   1</td><td>  6.95114084</td><td>  6.95114084</td><td>  93.1909805</td><td> 7.886604e-22</td></tr>\n",
       "\t<tr><th scope=row>RegionnameNorthernMetropolitan</th><td>   1</td><td> 25.64566705</td><td> 25.64566705</td><td> 343.8205199</td><td> 6.584960e-74</td></tr>\n",
       "\t<tr><th scope=row>RegionnameNorthernVictoria</th><td>   1</td><td>  0.23661571</td><td>  0.23661571</td><td>   3.1722059</td><td> 7.497164e-02</td></tr>\n",
       "\t<tr><th scope=row>RegionnameSouthEasternMetropolitan</th><td>   1</td><td> 16.19199141</td><td> 16.19199141</td><td> 217.0791227</td><td> 5.663742e-48</td></tr>\n",
       "\t<tr><th scope=row>RegionnameSouthernMetropolitan</th><td>   1</td><td> 12.43359593</td><td> 12.43359593</td><td> 166.6919175</td><td> 1.916560e-37</td></tr>\n",
       "\t<tr><th scope=row>RegionnameWesternMetropolitan</th><td>   1</td><td>  0.01703380</td><td>  0.01703380</td><td>   0.2283648</td><td> 6.327632e-01</td></tr>\n",
       "\t<tr><th scope=row>Typeh</th><td>   1</td><td> 62.13865949</td><td> 62.13865949</td><td> 833.0665047</td><td>1.251529e-167</td></tr>\n",
       "\t<tr><th scope=row>Typet</th><td>   1</td><td> 10.20640673</td><td> 10.20640673</td><td> 136.8329419</td><td> 3.860192e-31</td></tr>\n",
       "\t<tr><th scope=row>Residuals</th><td>4309</td><td>321.40949400</td><td>  0.07459027</td><td>          NA</td><td>           NA</td></tr>\n",
       "</tbody>\n",
       "</table>\n"
      ],
      "text/latex": [
       "A anova: 22 × 5\n",
       "\\begin{tabular}{r|lllll}\n",
       "  & Df & Sum Sq & Mean Sq & F value & Pr(>F)\\\\\n",
       "  & <int> & <dbl> & <dbl> & <dbl> & <dbl>\\\\\n",
       "\\hline\n",
       "\tRooms &    1 & 255.34903023 & 255.34903023 & 3423.3555380 &  0.000000e+00\\\\\n",
       "\tDistance &    1 & 181.73813355 & 181.73813355 & 2436.4856424 &  0.000000e+00\\\\\n",
       "\tPostcode &    1 &  40.98840368 &  40.98840368 &  549.5140460 & 1.776842e-114\\\\\n",
       "\tBedroom2 &    1 &   1.98846725 &   1.98846725 &   26.6585324 &  2.537229e-07\\\\\n",
       "\tBathroom &    1 &  18.90383893 &  18.90383893 &  253.4357058 &  1.719640e-55\\\\\n",
       "\tCar &    1 &  17.15813354 &  17.15813354 &  230.0317782 &  1.167721e-50\\\\\n",
       "\tLandsize &    1 &   7.79436522 &   7.79436522 &  104.4957300 &  2.973826e-24\\\\\n",
       "\tBuildingArea &    1 &  16.02735855 &  16.02735855 &  214.8719602 &  1.627796e-47\\\\\n",
       "\tLattitude &    1 &  68.48079419 &  68.48079419 &  918.0927996 & 5.425940e-183\\\\\n",
       "\tLongtitude &    1 &  41.59372782 &  41.59372782 &  557.6293685 & 4.844356e-116\\\\\n",
       "\tPropertycount &    1 &   0.13725424 &   0.13725424 &    1.8401091 &  1.750092e-01\\\\\n",
       "\tyear &    1 &   1.43409749 &   1.43409749 &   19.2263334 &  1.188696e-05\\\\\n",
       "\tRegionnameEasternMetropolitan &    1 &   0.05641666 &   0.05641666 &    0.7563542 &  3.845203e-01\\\\\n",
       "\tRegionnameEasternVictoria &    1 &   6.95114084 &   6.95114084 &   93.1909805 &  7.886604e-22\\\\\n",
       "\tRegionnameNorthernMetropolitan &    1 &  25.64566705 &  25.64566705 &  343.8205199 &  6.584960e-74\\\\\n",
       "\tRegionnameNorthernVictoria &    1 &   0.23661571 &   0.23661571 &    3.1722059 &  7.497164e-02\\\\\n",
       "\tRegionnameSouthEasternMetropolitan &    1 &  16.19199141 &  16.19199141 &  217.0791227 &  5.663742e-48\\\\\n",
       "\tRegionnameSouthernMetropolitan &    1 &  12.43359593 &  12.43359593 &  166.6919175 &  1.916560e-37\\\\\n",
       "\tRegionnameWesternMetropolitan &    1 &   0.01703380 &   0.01703380 &    0.2283648 &  6.327632e-01\\\\\n",
       "\tTypeh &    1 &  62.13865949 &  62.13865949 &  833.0665047 & 1.251529e-167\\\\\n",
       "\tTypet &    1 &  10.20640673 &  10.20640673 &  136.8329419 &  3.860192e-31\\\\\n",
       "\tResiduals & 4309 & 321.40949400 &   0.07459027 &           NA &            NA\\\\\n",
       "\\end{tabular}\n"
      ],
      "text/markdown": [
       "\n",
       "A anova: 22 × 5\n",
       "\n",
       "| <!--/--> | Df &lt;int&gt; | Sum Sq &lt;dbl&gt; | Mean Sq &lt;dbl&gt; | F value &lt;dbl&gt; | Pr(&gt;F) &lt;dbl&gt; |\n",
       "|---|---|---|---|---|---|\n",
       "| Rooms |    1 | 255.34903023 | 255.34903023 | 3423.3555380 |  0.000000e+00 |\n",
       "| Distance |    1 | 181.73813355 | 181.73813355 | 2436.4856424 |  0.000000e+00 |\n",
       "| Postcode |    1 |  40.98840368 |  40.98840368 |  549.5140460 | 1.776842e-114 |\n",
       "| Bedroom2 |    1 |   1.98846725 |   1.98846725 |   26.6585324 |  2.537229e-07 |\n",
       "| Bathroom |    1 |  18.90383893 |  18.90383893 |  253.4357058 |  1.719640e-55 |\n",
       "| Car |    1 |  17.15813354 |  17.15813354 |  230.0317782 |  1.167721e-50 |\n",
       "| Landsize |    1 |   7.79436522 |   7.79436522 |  104.4957300 |  2.973826e-24 |\n",
       "| BuildingArea |    1 |  16.02735855 |  16.02735855 |  214.8719602 |  1.627796e-47 |\n",
       "| Lattitude |    1 |  68.48079419 |  68.48079419 |  918.0927996 | 5.425940e-183 |\n",
       "| Longtitude |    1 |  41.59372782 |  41.59372782 |  557.6293685 | 4.844356e-116 |\n",
       "| Propertycount |    1 |   0.13725424 |   0.13725424 |    1.8401091 |  1.750092e-01 |\n",
       "| year |    1 |   1.43409749 |   1.43409749 |   19.2263334 |  1.188696e-05 |\n",
       "| RegionnameEasternMetropolitan |    1 |   0.05641666 |   0.05641666 |    0.7563542 |  3.845203e-01 |\n",
       "| RegionnameEasternVictoria |    1 |   6.95114084 |   6.95114084 |   93.1909805 |  7.886604e-22 |\n",
       "| RegionnameNorthernMetropolitan |    1 |  25.64566705 |  25.64566705 |  343.8205199 |  6.584960e-74 |\n",
       "| RegionnameNorthernVictoria |    1 |   0.23661571 |   0.23661571 |    3.1722059 |  7.497164e-02 |\n",
       "| RegionnameSouthEasternMetropolitan |    1 |  16.19199141 |  16.19199141 |  217.0791227 |  5.663742e-48 |\n",
       "| RegionnameSouthernMetropolitan |    1 |  12.43359593 |  12.43359593 |  166.6919175 |  1.916560e-37 |\n",
       "| RegionnameWesternMetropolitan |    1 |   0.01703380 |   0.01703380 |    0.2283648 |  6.327632e-01 |\n",
       "| Typeh |    1 |  62.13865949 |  62.13865949 |  833.0665047 | 1.251529e-167 |\n",
       "| Typet |    1 |  10.20640673 |  10.20640673 |  136.8329419 |  3.860192e-31 |\n",
       "| Residuals | 4309 | 321.40949400 |   0.07459027 |           NA |            NA |\n",
       "\n"
      ],
      "text/plain": [
       "                                   Df   Sum Sq       Mean Sq      F value     \n",
       "Rooms                                 1 255.34903023 255.34903023 3423.3555380\n",
       "Distance                              1 181.73813355 181.73813355 2436.4856424\n",
       "Postcode                              1  40.98840368  40.98840368  549.5140460\n",
       "Bedroom2                              1   1.98846725   1.98846725   26.6585324\n",
       "Bathroom                              1  18.90383893  18.90383893  253.4357058\n",
       "Car                                   1  17.15813354  17.15813354  230.0317782\n",
       "Landsize                              1   7.79436522   7.79436522  104.4957300\n",
       "BuildingArea                          1  16.02735855  16.02735855  214.8719602\n",
       "Lattitude                             1  68.48079419  68.48079419  918.0927996\n",
       "Longtitude                            1  41.59372782  41.59372782  557.6293685\n",
       "Propertycount                         1   0.13725424   0.13725424    1.8401091\n",
       "year                                  1   1.43409749   1.43409749   19.2263334\n",
       "RegionnameEasternMetropolitan         1   0.05641666   0.05641666    0.7563542\n",
       "RegionnameEasternVictoria             1   6.95114084   6.95114084   93.1909805\n",
       "RegionnameNorthernMetropolitan        1  25.64566705  25.64566705  343.8205199\n",
       "RegionnameNorthernVictoria            1   0.23661571   0.23661571    3.1722059\n",
       "RegionnameSouthEasternMetropolitan    1  16.19199141  16.19199141  217.0791227\n",
       "RegionnameSouthernMetropolitan        1  12.43359593  12.43359593  166.6919175\n",
       "RegionnameWesternMetropolitan         1   0.01703380   0.01703380    0.2283648\n",
       "Typeh                                 1  62.13865949  62.13865949  833.0665047\n",
       "Typet                                 1  10.20640673  10.20640673  136.8329419\n",
       "Residuals                          4309 321.40949400   0.07459027           NA\n",
       "                                   Pr(>F)       \n",
       "Rooms                               0.000000e+00\n",
       "Distance                            0.000000e+00\n",
       "Postcode                           1.776842e-114\n",
       "Bedroom2                            2.537229e-07\n",
       "Bathroom                            1.719640e-55\n",
       "Car                                 1.167721e-50\n",
       "Landsize                            2.973826e-24\n",
       "BuildingArea                        1.627796e-47\n",
       "Lattitude                          5.425940e-183\n",
       "Longtitude                         4.844356e-116\n",
       "Propertycount                       1.750092e-01\n",
       "year                                1.188696e-05\n",
       "RegionnameEasternMetropolitan       3.845203e-01\n",
       "RegionnameEasternVictoria           7.886604e-22\n",
       "RegionnameNorthernMetropolitan      6.584960e-74\n",
       "RegionnameNorthernVictoria          7.497164e-02\n",
       "RegionnameSouthEasternMetropolitan  5.663742e-48\n",
       "RegionnameSouthernMetropolitan      1.916560e-37\n",
       "RegionnameWesternMetropolitan       6.327632e-01\n",
       "Typeh                              1.251529e-167\n",
       "Typet                               3.860192e-31\n",
       "Residuals                                     NA"
      ]
     },
     "metadata": {},
     "output_type": "display_data"
    }
   ],
   "source": [
    "anova(mlr_model)"
   ]
  },
  {
   "cell_type": "markdown",
   "metadata": {},
   "source": [
    "\n",
    "\n",
    "From the results tables we can clearly see that many features has P-value less than the significance level, so we reject the null hypothesis. \n",
    "\n"
   ]
  },
  {
   "cell_type": "markdown",
   "metadata": {},
   "source": [
    "## 5. Diagnostics\n",
    "\n",
    "Model diagnostics are essential in assessing the validity and reliability of linear regression models, these methods identifies the issues with the model. Some of the diagonistics we have done in this analysis are as follows:\n",
    "\n",
    "- Goodness of Fit ($R^2$) \n",
    "- Forward Selection\n",
    "- Residual Analysis\n",
    "    - Linearity\n",
    "    - Normality\n",
    "    - Constant Variance\n",
    "     "
   ]
  },
  {
   "cell_type": "markdown",
   "metadata": {},
   "source": [
    "\n",
    "###  a). Goodness of Fit ($R^2$)"
   ]
  },
  {
   "cell_type": "code",
   "execution_count": 177,
   "metadata": {
    "vscode": {
     "languageId": "r"
    }
   },
   "outputs": [
    {
     "data": {
      "text/plain": [
       "\n",
       "Call:\n",
       "lm(formula = Price ~ ., data = d)\n",
       "\n",
       "Residuals:\n",
       "     Min       1Q   Median       3Q      Max \n",
       "-1.93750 -0.17349 -0.01316  0.17012  1.37200 \n",
       "\n",
       "Coefficients: (1 not defined because of singularities)\n",
       "                                     Estimate Std. Error t value Pr(>|t|)    \n",
       "(Intercept)                        -1.685e+02  2.126e+01  -7.923 2.93e-15 ***\n",
       "Rooms                               3.706e-01  4.543e-02   8.157 4.47e-16 ***\n",
       "Distance                           -4.188e-01  9.748e-03 -42.960  < 2e-16 ***\n",
       "Postcode                           -1.879e-04  5.901e-05  -3.184 0.001463 ** \n",
       "Bedroom2                            9.790e-02  4.434e-02   2.208 0.027315 *  \n",
       "Bathroom                            1.377e-01  1.291e-02  10.661  < 2e-16 ***\n",
       "Car                                 6.677e-02  1.072e-02   6.228 5.18e-10 ***\n",
       "Landsize                            3.011e-02  6.318e-03   4.766 1.94e-06 ***\n",
       "BuildingArea                        1.108e-01  1.051e-02  10.543  < 2e-16 ***\n",
       "Lattitude                          -6.607e-01  8.277e-02  -7.982 1.83e-15 ***\n",
       "Longtitude                          9.545e-01  7.600e-02  12.561  < 2e-16 ***\n",
       "Propertycount                       2.053e-03  6.725e-03   0.305 0.760143    \n",
       "year                                9.255e-03  8.762e-03   1.056 0.290921    \n",
       "RegionnameEasternMetropolitan       4.992e-02  8.561e-02   0.583 0.559825    \n",
       "RegionnameEasternVictoria          -2.822e-01  1.091e-01  -2.587 0.009701 ** \n",
       "RegionnameNorthernMetropolitan     -8.533e-02  8.074e-02  -1.057 0.290681    \n",
       "RegionnameNorthernVictoria          1.966e-01  1.018e-01   1.931 0.053557 .  \n",
       "RegionnameSouthEasternMetropolitan -7.887e-02  8.901e-02  -0.886 0.375632    \n",
       "RegionnameSouthernMetropolitan      2.976e-01  8.264e-02   3.601 0.000321 ***\n",
       "RegionnameWesternMetropolitan      -5.372e-04  7.753e-02  -0.007 0.994472    \n",
       "RegionnameWesternVictoria                  NA         NA      NA       NA    \n",
       "Typeh                               4.498e-01  1.506e-02  29.874  < 2e-16 ***\n",
       "Typet                               2.277e-01  1.947e-02  11.698  < 2e-16 ***\n",
       "---\n",
       "Signif. codes:  0 '***' 0.001 '**' 0.01 '*' 0.05 '.' 0.1 ' ' 1\n",
       "\n",
       "Residual standard error: 0.2731 on 4309 degrees of freedom\n",
       "Multiple R-squared:  0.7096,\tAdjusted R-squared:  0.7082 \n",
       "F-statistic: 501.5 on 21 and 4309 DF,  p-value: < 2.2e-16\n"
      ]
     },
     "metadata": {},
     "output_type": "display_data"
    }
   ],
   "source": [
    "summary(mlr_model)"
   ]
  },
  {
   "cell_type": "markdown",
   "metadata": {},
   "source": [
    "The $R^2 = 0.7096$ with 21 features which can be improved using feature selection methods but other than that the model explains the overall variance present in the data."
   ]
  },
  {
   "cell_type": "markdown",
   "metadata": {
    "vscode": {
     "languageId": "r"
    }
   },
   "source": [
    "### b) Forward Select\n",
    "\n",
    "Adding the top 10 features based on the forward selection method."
   ]
  },
  {
   "cell_type": "code",
   "execution_count": 87,
   "metadata": {
    "vscode": {
     "languageId": "r"
    }
   },
   "outputs": [
    {
     "name": "stdout",
     "output_type": "stream",
     "text": [
      "Step:  1   Rooms  has been added.\n",
      "Step:  2   RegionnameSouthernMetropolitan  has been added.\n",
      "Step:  3   Distance  has been added.\n",
      "Step:  4   Typeh  has been added.\n",
      "Step:  5   Longtitude  has been added.\n",
      "Step:  6   Bathroom  has been added.\n",
      "Step:  7   RegionnameNorthernMetropolitan  has been added.\n",
      "Step:  8   Typet  has been added.\n",
      "Step:  9   BuildingArea  has been added.\n",
      "Step:  10   Car  has been added.\n"
     ]
    },
    {
     "data": {
      "text/html": [
       "<style>\n",
       ".list-inline {list-style: none; margin:0; padding: 0}\n",
       ".list-inline>li {display: inline-block}\n",
       ".list-inline>li:not(:last-child)::after {content: \"\\00b7\"; padding: 0 .5ex}\n",
       "</style>\n",
       "<ol class=list-inline><li>'Rooms'</li><li>'RegionnameSouthernMetropolitan'</li><li>'Distance'</li><li>'Typeh'</li><li>'Longtitude'</li><li>'Bathroom'</li><li>'RegionnameNorthernMetropolitan'</li><li>'Typet'</li><li>'BuildingArea'</li><li>'Car'</li></ol>\n"
      ],
      "text/latex": [
       "\\begin{enumerate*}\n",
       "\\item 'Rooms'\n",
       "\\item 'RegionnameSouthernMetropolitan'\n",
       "\\item 'Distance'\n",
       "\\item 'Typeh'\n",
       "\\item 'Longtitude'\n",
       "\\item 'Bathroom'\n",
       "\\item 'RegionnameNorthernMetropolitan'\n",
       "\\item 'Typet'\n",
       "\\item 'BuildingArea'\n",
       "\\item 'Car'\n",
       "\\end{enumerate*}\n"
      ],
      "text/markdown": [
       "1. 'Rooms'\n",
       "2. 'RegionnameSouthernMetropolitan'\n",
       "3. 'Distance'\n",
       "4. 'Typeh'\n",
       "5. 'Longtitude'\n",
       "6. 'Bathroom'\n",
       "7. 'RegionnameNorthernMetropolitan'\n",
       "8. 'Typet'\n",
       "9. 'BuildingArea'\n",
       "10. 'Car'\n",
       "\n",
       "\n"
      ],
      "text/plain": [
       " [1] \"Rooms\"                          \"RegionnameSouthernMetropolitan\"\n",
       " [3] \"Distance\"                       \"Typeh\"                         \n",
       " [5] \"Longtitude\"                     \"Bathroom\"                      \n",
       " [7] \"RegionnameNorthernMetropolitan\" \"Typet\"                         \n",
       " [9] \"BuildingArea\"                   \"Car\"                           "
      ]
     },
     "metadata": {},
     "output_type": "display_data"
    }
   ],
   "source": [
    "forward_select <- function(df, resp_str, maxk) {\n",
    "  selected_features <- c() \n",
    "  other_feat <- setdiff(names(df), resp_str)\n",
    "  Y <- df[[resp_str]]\n",
    "  for (k in 1:maxk) {\n",
    "    best_feature <- NULL\n",
    "    low_sse <- Inf  \n",
    "    \n",
    "    for (feature in other_feat) {\n",
    "      input_feature <- c(selected_features, feature)\n",
    "      model <- lm(paste(resp_str, \"~\", paste(input_feature, collapse = \" + \")), data = df)\n",
    "      y_hat <- predict(model, newdata = df)\n",
    "      sse <- sum((Y - y_hat)^2)\n",
    "      \n",
    "      if (sse < low_sse) {  \n",
    "        low_sse <- sse  \n",
    "        best_feature <- feature\n",
    "      }\n",
    "    }\n",
    "    selected_features <- c(selected_features, best_feature)\n",
    "    other_feat <- setdiff(other_feat, best_feature)\n",
    "    \n",
    "    cat(paste(\"Step: \", k, \" \", best_feature, \" has been added.\\n\" ))\n",
    "  }\n",
    "  \n",
    "  return(selected_features)\n",
    "}\n",
    "\n",
    "\n",
    "forward_select(d,\"Price\",10)"
   ]
  },
  {
   "cell_type": "markdown",
   "metadata": {},
   "source": [
    "We have selected the top 10  highly contributing predictors using the forward select, which iteratively adds the best predictors that contributes more to the prediction of the dependant variable. "
   ]
  },
  {
   "cell_type": "markdown",
   "metadata": {},
   "source": [
    "### c) Residual Analysis"
   ]
  },
  {
   "cell_type": "code",
   "execution_count": 183,
   "metadata": {
    "vscode": {
     "languageId": "r"
    }
   },
   "outputs": [
    {
     "data": {
      "image/png": "[encoded data removed]",
      "text/plain": [
       "Plot with title \"\""
      ]
     },
     "metadata": {
      "image/png": {
       "height": 360,
       "width": 360
      }
     },
     "output_type": "display_data"
    }
   ],
   "source": [
    "#df for residual analysis\n",
    "diag_1 = data.frame(yhat = fitted(mlr_model), r = resid(mlr_model,type = \"pearson\"), y = d$Price,\n",
    "                           Rooms = d$Rooms, Distance =  d$Distance , Longtitude = d$Longtitude , Lattitude = d$Lattitude , BuildingArea = d$BuildingArea , Car = d$Car , Bathroom = d$Bathroom)\n",
    "\n",
    "\n",
    "par(mfrow = c(2,2))\n",
    "plot(mlr_model)"
   ]
  },
  {
   "cell_type": "markdown",
   "metadata": {
    "vscode": {
     "languageId": "r"
    }
   },
   "source": [
    "\n",
    "\n",
    "**Constant Variance** - The variance is the constant across the overall data.\n",
    "\n",
    "**Normality**         - It can be inferred from the QQ Plot that data follows a Normal Distribution but we can see at both ends there is slight deviation.\n",
    "\n",
    "\n"
   ]
  },
  {
   "cell_type": "code",
   "execution_count": 184,
   "metadata": {
    "vscode": {
     "languageId": "r"
    }
   },
   "outputs": [
    {
     "name": "stderr",
     "output_type": "stream",
     "text": [
      "\u001b[1m\u001b[22m`geom_smooth()` using method = 'gam' and formula = 'y ~ s(x, bs = \"cs\")'\n"
     ]
    },
    {
     "data": {
      "image/png": "[encoded data removed]",
      "text/plain": [
       "plot without title"
      ]
     },
     "metadata": {
      "image/png": {
       "height": 360,
       "width": 360
      }
     },
     "output_type": "display_data"
    }
   ],
   "source": [
    "options(repr.plot.width = 6, repr.plot.height = 6)\n",
    "ggplot(diag_1, aes(x = y, y = yhat)) + \n",
    "    geom_point(alpha = 0.5) + \n",
    "    geom_smooth(se = F, col = \"#CFB87C\") +\n",
    "    geom_abline(intercept = 0, slope = 1)+\n",
    "    xlab(\"Observed Values\") +\n",
    "    ylab(\"Fitted/Predicted Values\") +\n",
    "    theme_bw()"
   ]
  },
  {
   "cell_type": "markdown",
   "metadata": {},
   "source": [
    "**Linearity** - The above plot shows that the model captures most of variance but it overpredicts and underpredicts in both tails, which seem to violate the linearity assumption."
   ]
  },
  {
   "cell_type": "markdown",
   "metadata": {},
   "source": [
    "### Report"
   ]
  },
  {
   "cell_type": "markdown",
   "metadata": {},
   "source": [
    "## 1. Introduction \n",
    "\n",
    "The 5% of Australian GDP is contribbuted by the Housing market. It is very stable than many other countries, many news and reports showing that by 2030 there will be lot of investments in the residential housing market of the Australia. For buyers and sellers, in the growing market it is necessary to have a tool to estimate the housing price based on some factors like numbers of bedrooms, bathrooms, car parking slots, distance from the central business districts and etc.\n",
    "\n",
    "Prior Research - https://propertyupdate.com.au/predicted-house-prices-for-australia-in-2030/#:~:text=The%20average%20annual%20growth%20rate,around%20%241.2%20million%20in%202030.\n",
    "\n",
    "The data is collected by the University of Barcelona, for a data sceince postgraduate competition in kaggle.\n",
    "\n",
    "There some questions which are answered in this project and they are as follows\n",
    "* Whether the average distance from the Central Business District of Australia is 6.87kms or not?\n",
    "* Understand the width of the mean sale price of residential properties in Australia.\n",
    "* Estimate the sale price based on the other predictors like rooms, building area, number of bathrooms etc.\n",
    "* To find out whether at least one predictor variable is contributing in the estimation of sale price of the residential housing market.\n",
    "* Are the assumptions of linear regression are violated or not?\n",
    "\n",
    "\n",
    "## 2. Methods/ Results\n",
    "\n",
    "* **Data Source** The data has been obtained from the Kaggle competition which was collected by the University of Barcelona, for a data science postgraudate competition. \n",
    "\n",
    "* **The exploratory Analysis** \n",
    "\n",
    "\n",
    "The histogram of all the numerical features\n",
    "\n",
    "\n",
    "<img src=\"images/hist_1.png\" alt=\"Image Description\" width=\"500\" height=\"500\">\\\n",
    "\n",
    "<img src=\"images/hist_2.png\" alt=\"Image Description\" width=\"500\" height=\"500\">\\\n",
    "\n",
    "We can see that the most of them are skewed So applying log transformations to all the numerical columns. \n",
    "\n",
    "\n",
    "<img src=\"images/pairwise.png\" alt=\"Image Description\" width=\"500\" height=\"500\">\\\n",
    "\n",
    "From the correlation plot we can infer some information about the correlation between the target variable and the predictors.\n",
    "\n",
    "\n",
    "<img src=\"images/region_hist.png\" alt=\"Image Description\" width=\"500\" height=\"500\">\\\n",
    "\n",
    "We can see that the house type is significantly more than the other types like townhouses and duplex units. Around more than 3500 units of houses, 500 townhouses and then 1500 duplex units.\n",
    "\n",
    "\n",
    "<img src=\"images/type_hist.png\" alt=\"Image Description\" width=\"500\" height=\"500\">\n",
    "\n",
    "The Southern Metropolitan region has the highest number of houses whereas the Victoria regions such as Western Victoria, Northern Victoria and Eastern Victoria has lowest properties. This information can be valuable for land promotors to make investments in these locations.\n",
    "\n",
    "\n",
    "### The following **Statistical Analyses** have been done to answer the research questions in the introduction.\n",
    "\n",
    "    1. Hypothesis Testing\n",
    "    2. Confidence Interval\n",
    "    3. Linear Modeling\n",
    "    4. F Test\n",
    "    5. Model Diagonistics\n",
    "\n",
    "\n",
    "\n",
    "### 1. Hypothesis Testing \n",
    "\n",
    "In this analyses we will test the hypothesis. **Whether the Average Distance from the Central Business District of Australia residential property is 6.87Kms or not**.\n",
    "\n",
    "$H_0 = \\text{The Average distance from the Central Business District of Australian Residential Property is equal to 6.87kms}$\n",
    "\n",
    "\n",
    "$H_A = \\text{ The Average distance from the Central Business District of Australian Residential Property is not equal to 6.87 kms}$\n",
    "\n",
    "Since we do not know the population variance, so using the T-test would give accurate results.\n",
    "\n",
    "To ensure robust results, we take sample under the 30 rows, as it provided enough observations to reliable estimation of the population average of the distance from Central Business District.\n",
    "\n",
    "$$P-value: 2.212278e-24 $$\n",
    "\n",
    "\n",
    "From the results we can conclude that we reject the null hypothesis in favour of the distance from the CBD for an Australian Residential property is not equal to 6.87kms.\n",
    "\n",
    "## 2. Confidence Interval\n",
    "\n",
    "It can be found using the confidence interval method in which the range of the population parameters likely to be present based on the confidence and the margin of error in the data. It is very helpful in inferential statistics by providing the uncertainity in the population parameters helping in decision making process.\n",
    "\n",
    "\n",
    "**Finding the mean sale price of the houses in Australia, assuming this data as the sample using the confidence interval based on the charateristics of sample data and confidence level (95%).** \n",
    "\n",
    "$$ \\text{Confidence Interval - 95\\%: [ 1127405 ,  1167025 ] }$$\n",
    "\n",
    "Based on the results, we can conclude that the Average price of the Australian house will fall inbetween 1127405 and 1167025. \n",
    "\n",
    "### 3. Regression Modeling \n",
    "\n",
    "Regression modelling invovlee in finding the mathematical relationship between the independent variables and the dependent variables, they mostly used to predict the dependent variables based on the change of independent variables.\n",
    "\n",
    "**Predicting the price of the residential property based on the independent features like the numbers of rooms, distance from the CBD, number of bedrooms, number of bathrooms, number of cars, the landsize, building area, number of property in the community and the location metrics.**\n",
    "\n",
    "\n",
    "\n",
    "### 4. F-Test\n",
    "\n",
    "Assuming the significance level  $\\alpha = 0.05 $ to determine if atleast one of the features is related to the response variable Y\n",
    "\n",
    "\n",
    "\n",
    "$H_o = $ No Feature is related to the response variable \"Price\"\n",
    "\n",
    "\n",
    "$H_A = $ Atleast one feature is related to the response variable \"Price\" \n",
    "\n",
    "\n",
    "\n",
    "From the results tables we can clearly see that many features has P-value less than the significance level. Thus concluding to reject the null hypothesis in the favour of atleast one feature is related to the response variable.\n",
    "\n",
    "## 5. Diagnostics\n",
    "\n",
    "Model diagnostics are essential in assessing the validity and reliability of linear regression models, these methods identifies the issues with the model. Some of the diagonistics we have done in this analysis are as follows:\n",
    "\n",
    "- Goodness of Fit ($R^2$) \n",
    "- Forward Selection\n",
    "- Residual Analysis\n",
    "    - Linearity\n",
    "    - Normality\n",
    "    - Constant Variance\n",
    "\n",
    "### Goodness of Fit ($R^2$)  \n",
    "The $R^2 = 0.7096$ with 21 features which can be improved using feature selection methods but other than that the model explains the overall variance present in the data.\n",
    "\n",
    "### Forward Selection\n",
    "With Forward select we were able to reduce the feature size significantly. The top 10 features that contributes to the prediction of the response variable are \n",
    "\n",
    "1.   Rooms\n",
    "2.   RegionnameSouthernMetropolitan\n",
    "3.   Distance\n",
    "4.   Typeh\n",
    "5.   Longtitude\n",
    "6.   Bathroom \n",
    "7.   RegionnameNorthernMetropolitan\n",
    "8.   Typet \n",
    "9.   BuildingArea\n",
    "10.  Car\n",
    "\n",
    "### Residual Analysis\n",
    "These plots are useful in \n",
    "\n",
    "\n",
    "<img src=\"images/goodness_1.png\" alt=\"Image Description\" width=\"500\" height=\"500\">\\\n",
    "\n",
    "<img src=\"images/goodness_2.png\" alt=\"Image Description\" width=\"500\" height=\"500\">\\\n",
    "\n",
    "\n",
    "\n",
    "#### Linear Modeling Assumptions :\n",
    "\n",
    "**Constant Variance** - The variance is the constant across the overall data.\n",
    "\n",
    "**Normality** - It can be inferred from the QQ Plot that data follows a Normal Distribution but we can see at both ends there is slight deviation.\n",
    "\n",
    "**Linearity** - The above plot shows that the model captures most of variance but it overpredicts and underpredicts in both tails, which seem to violate the linearity assumption.\n",
    "\n",
    "### 3.  Conclusion:\n",
    "\n",
    "From this analysis, we got some great insight about the australian housing market, which is the higher contributor to the nation's GDP. Right from the estimation of the average sale price of an property in The Australia to ensuring the violation of linear modeling. \n",
    "\n",
    "Next, we can proceed on the model selection process, using the AIC, BIC and Adjusted R^2 to select the best model based on the combination of all predictors contributing to the prediciton of the target variable with less error."
   ]
  }
 ],
 "metadata": {
  "kernelspec": {
   "display_name": "R",
   "language": "R",
   "name": "ir"
  },
  "language_info": {
   "codemirror_mode": "r",
   "file_extension": ".r",
   "mimetype": "text/x-r-source",
   "name": "R",
   "pygments_lexer": "r",
   "version": "4.3.2"
  }
 },
 "nbformat": 4,
 "nbformat_minor": 2
}
