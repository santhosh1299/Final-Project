{
 "cells": [
  {
   "cell_type": "code",
   "execution_count": 179,
   "metadata": {
    "vscode": {
     "languageId": "r"
    }
   },
   "outputs": [],
   "source": [
    "library(tidyverse)"
   ]
  },
  {
   "cell_type": "code",
   "execution_count": 150,
   "metadata": {
    "vscode": {
     "languageId": "r"
    }
   },
   "outputs": [
    {
     "data": {
      "text/html": [
       "<table class=\"dataframe\">\n",
       "<caption>A data.frame: 6 × 24</caption>\n",
       "<thead>\n",
       "\t<tr><th></th><th scope=col>index</th><th scope=col>Suburb</th><th scope=col>Address</th><th scope=col>Rooms</th><th scope=col>Type</th><th scope=col>Price</th><th scope=col>Method</th><th scope=col>SellerG</th><th scope=col>Date</th><th scope=col>Distance</th><th scope=col>⋯</th><th scope=col>Landsize</th><th scope=col>BuildingArea</th><th scope=col>YearBuilt</th><th scope=col>CouncilArea</th><th scope=col>Lattitude</th><th scope=col>Longtitude</th><th scope=col>Regionname</th><th scope=col>Propertycount</th><th scope=col>X</th><th scope=col>year</th></tr>\n",
       "\t<tr><th></th><th scope=col>&lt;int&gt;</th><th scope=col>&lt;chr&gt;</th><th scope=col>&lt;chr&gt;</th><th scope=col>&lt;int&gt;</th><th scope=col>&lt;chr&gt;</th><th scope=col>&lt;int&gt;</th><th scope=col>&lt;chr&gt;</th><th scope=col>&lt;chr&gt;</th><th scope=col>&lt;chr&gt;</th><th scope=col>&lt;dbl&gt;</th><th scope=col>⋯</th><th scope=col>&lt;int&gt;</th><th scope=col>&lt;dbl&gt;</th><th scope=col>&lt;int&gt;</th><th scope=col>&lt;chr&gt;</th><th scope=col>&lt;dbl&gt;</th><th scope=col>&lt;dbl&gt;</th><th scope=col>&lt;chr&gt;</th><th scope=col>&lt;int&gt;</th><th scope=col>&lt;lgl&gt;</th><th scope=col>&lt;int&gt;</th></tr>\n",
       "</thead>\n",
       "<tbody>\n",
       "\t<tr><th scope=row>1</th><td>0</td><td>Aberfeldie       </td><td>241 Buckley St   </td><td>4</td><td>h</td><td>1380000</td><td>VB</td><td>Nelson       </td><td>8/12/2017 </td><td> 7.5</td><td>⋯</td><td>766</td><td>126</td><td>1970</td><td>Moonee Valley</td><td>-37.75595</td><td>144.9055</td><td>Western Metropolitan </td><td> 1543</td><td>NA</td><td>2017</td></tr>\n",
       "\t<tr><th scope=row>2</th><td>1</td><td>Northcote        </td><td>67 Charles St    </td><td>2</td><td>h</td><td>1100000</td><td>SP</td><td>Jellis       </td><td>5/20/2017 </td><td> 5.5</td><td>⋯</td><td>189</td><td>126</td><td>1970</td><td>Darebin      </td><td>-37.77670</td><td>144.9924</td><td>Northern Metropolitan</td><td>11364</td><td>NA</td><td>2017</td></tr>\n",
       "\t<tr><th scope=row>3</th><td>2</td><td>Balwyn North     </td><td>42 Maud St       </td><td>3</td><td>h</td><td>1480000</td><td>PI</td><td>Jellis       </td><td>10/15/2016</td><td> 9.2</td><td>⋯</td><td>605</td><td>116</td><td>1950</td><td>Boroondara   </td><td>-37.79510</td><td>145.0696</td><td>Southern Metropolitan</td><td> 7809</td><td>NA</td><td>2016</td></tr>\n",
       "\t<tr><th scope=row>4</th><td>3</td><td>Brunswick        </td><td>13 Percy St      </td><td>3</td><td>h</td><td>1055000</td><td>S </td><td>Nelson       </td><td>5/7/2016  </td><td> 5.2</td><td>⋯</td><td>324</td><td>126</td><td>1930</td><td>Moreland     </td><td>-37.76530</td><td>144.9586</td><td>Northern Metropolitan</td><td>11918</td><td>NA</td><td>2016</td></tr>\n",
       "\t<tr><th scope=row>5</th><td>4</td><td>Templestowe Lower</td><td>253 Thompsons Rd </td><td>4</td><td>h</td><td>1000000</td><td>VB</td><td>hockingstuart</td><td>8/13/2016 </td><td>13.8</td><td>⋯</td><td>728</td><td>164</td><td>1970</td><td>Manningham   </td><td>-37.76800</td><td>145.1027</td><td>Eastern Metropolitan </td><td> 5420</td><td>NA</td><td>2016</td></tr>\n",
       "\t<tr><th scope=row>6</th><td>5</td><td>Coburg           </td><td>4/34 Gladstone St</td><td>2</td><td>u</td><td> 650000</td><td>S </td><td>Barry        </td><td>4/29/2017 </td><td> 7.8</td><td>⋯</td><td>136</td><td> 81</td><td>1975</td><td>Moreland     </td><td>-37.74490</td><td>144.9754</td><td>Northern Metropolitan</td><td>11204</td><td>NA</td><td>2017</td></tr>\n",
       "</tbody>\n",
       "</table>\n"
      ],
      "text/latex": [
       "A data.frame: 6 × 24\n",
       "\\begin{tabular}{r|lllllllllllllllllllll}\n",
       "  & index & Suburb & Address & Rooms & Type & Price & Method & SellerG & Date & Distance & ⋯ & Landsize & BuildingArea & YearBuilt & CouncilArea & Lattitude & Longtitude & Regionname & Propertycount & X & year\\\\\n",
       "  & <int> & <chr> & <chr> & <int> & <chr> & <int> & <chr> & <chr> & <chr> & <dbl> & ⋯ & <int> & <dbl> & <int> & <chr> & <dbl> & <dbl> & <chr> & <int> & <lgl> & <int>\\\\\n",
       "\\hline\n",
       "\t1 & 0 & Aberfeldie        & 241 Buckley St    & 4 & h & 1380000 & VB & Nelson        & 8/12/2017  &  7.5 & ⋯ & 766 & 126 & 1970 & Moonee Valley & -37.75595 & 144.9055 & Western Metropolitan  &  1543 & NA & 2017\\\\\n",
       "\t2 & 1 & Northcote         & 67 Charles St     & 2 & h & 1100000 & SP & Jellis        & 5/20/2017  &  5.5 & ⋯ & 189 & 126 & 1970 & Darebin       & -37.77670 & 144.9924 & Northern Metropolitan & 11364 & NA & 2017\\\\\n",
       "\t3 & 2 & Balwyn North      & 42 Maud St        & 3 & h & 1480000 & PI & Jellis        & 10/15/2016 &  9.2 & ⋯ & 605 & 116 & 1950 & Boroondara    & -37.79510 & 145.0696 & Southern Metropolitan &  7809 & NA & 2016\\\\\n",
       "\t4 & 3 & Brunswick         & 13 Percy St       & 3 & h & 1055000 & S  & Nelson        & 5/7/2016   &  5.2 & ⋯ & 324 & 126 & 1930 & Moreland      & -37.76530 & 144.9586 & Northern Metropolitan & 11918 & NA & 2016\\\\\n",
       "\t5 & 4 & Templestowe Lower & 253 Thompsons Rd  & 4 & h & 1000000 & VB & hockingstuart & 8/13/2016  & 13.8 & ⋯ & 728 & 164 & 1970 & Manningham    & -37.76800 & 145.1027 & Eastern Metropolitan  &  5420 & NA & 2016\\\\\n",
       "\t6 & 5 & Coburg            & 4/34 Gladstone St & 2 & u &  650000 & S  & Barry         & 4/29/2017  &  7.8 & ⋯ & 136 &  81 & 1975 & Moreland      & -37.74490 & 144.9754 & Northern Metropolitan & 11204 & NA & 2017\\\\\n",
       "\\end{tabular}\n"
      ],
      "text/markdown": [
       "\n",
       "A data.frame: 6 × 24\n",
       "\n",
       "| <!--/--> | index &lt;int&gt; | Suburb &lt;chr&gt; | Address &lt;chr&gt; | Rooms &lt;int&gt; | Type &lt;chr&gt; | Price &lt;int&gt; | Method &lt;chr&gt; | SellerG &lt;chr&gt; | Date &lt;chr&gt; | Distance &lt;dbl&gt; | ⋯ ⋯ | Landsize &lt;int&gt; | BuildingArea &lt;dbl&gt; | YearBuilt &lt;int&gt; | CouncilArea &lt;chr&gt; | Lattitude &lt;dbl&gt; | Longtitude &lt;dbl&gt; | Regionname &lt;chr&gt; | Propertycount &lt;int&gt; | X &lt;lgl&gt; | year &lt;int&gt; |\n",
       "|---|---|---|---|---|---|---|---|---|---|---|---|---|---|---|---|---|---|---|---|---|---|\n",
       "| 1 | 0 | Aberfeldie        | 241 Buckley St    | 4 | h | 1380000 | VB | Nelson        | 8/12/2017  |  7.5 | ⋯ | 766 | 126 | 1970 | Moonee Valley | -37.75595 | 144.9055 | Western Metropolitan  |  1543 | NA | 2017 |\n",
       "| 2 | 1 | Northcote         | 67 Charles St     | 2 | h | 1100000 | SP | Jellis        | 5/20/2017  |  5.5 | ⋯ | 189 | 126 | 1970 | Darebin       | -37.77670 | 144.9924 | Northern Metropolitan | 11364 | NA | 2017 |\n",
       "| 3 | 2 | Balwyn North      | 42 Maud St        | 3 | h | 1480000 | PI | Jellis        | 10/15/2016 |  9.2 | ⋯ | 605 | 116 | 1950 | Boroondara    | -37.79510 | 145.0696 | Southern Metropolitan |  7809 | NA | 2016 |\n",
       "| 4 | 3 | Brunswick         | 13 Percy St       | 3 | h | 1055000 | S  | Nelson        | 5/7/2016   |  5.2 | ⋯ | 324 | 126 | 1930 | Moreland      | -37.76530 | 144.9586 | Northern Metropolitan | 11918 | NA | 2016 |\n",
       "| 5 | 4 | Templestowe Lower | 253 Thompsons Rd  | 4 | h | 1000000 | VB | hockingstuart | 8/13/2016  | 13.8 | ⋯ | 728 | 164 | 1970 | Manningham    | -37.76800 | 145.1027 | Eastern Metropolitan  |  5420 | NA | 2016 |\n",
       "| 6 | 5 | Coburg            | 4/34 Gladstone St | 2 | u |  650000 | S  | Barry         | 4/29/2017  |  7.8 | ⋯ | 136 |  81 | 1975 | Moreland      | -37.74490 | 144.9754 | Northern Metropolitan | 11204 | NA | 2017 |\n",
       "\n"
      ],
      "text/plain": [
       "  index Suburb            Address           Rooms Type Price   Method\n",
       "1 0     Aberfeldie        241 Buckley St    4     h    1380000 VB    \n",
       "2 1     Northcote         67 Charles St     2     h    1100000 SP    \n",
       "3 2     Balwyn North      42 Maud St        3     h    1480000 PI    \n",
       "4 3     Brunswick         13 Percy St       3     h    1055000 S     \n",
       "5 4     Templestowe Lower 253 Thompsons Rd  4     h    1000000 VB    \n",
       "6 5     Coburg            4/34 Gladstone St 2     u     650000 S     \n",
       "  SellerG       Date       Distance ⋯ Landsize BuildingArea YearBuilt\n",
       "1 Nelson        8/12/2017   7.5     ⋯ 766      126          1970     \n",
       "2 Jellis        5/20/2017   5.5     ⋯ 189      126          1970     \n",
       "3 Jellis        10/15/2016  9.2     ⋯ 605      116          1950     \n",
       "4 Nelson        5/7/2016    5.2     ⋯ 324      126          1930     \n",
       "5 hockingstuart 8/13/2016  13.8     ⋯ 728      164          1970     \n",
       "6 Barry         4/29/2017   7.8     ⋯ 136       81          1975     \n",
       "  CouncilArea   Lattitude Longtitude Regionname            Propertycount X \n",
       "1 Moonee Valley -37.75595 144.9055   Western Metropolitan   1543         NA\n",
       "2 Darebin       -37.77670 144.9924   Northern Metropolitan 11364         NA\n",
       "3 Boroondara    -37.79510 145.0696   Southern Metropolitan  7809         NA\n",
       "4 Moreland      -37.76530 144.9586   Northern Metropolitan 11918         NA\n",
       "5 Manningham    -37.76800 145.1027   Eastern Metropolitan   5420         NA\n",
       "6 Moreland      -37.74490 144.9754   Northern Metropolitan 11204         NA\n",
       "  year\n",
       "1 2017\n",
       "2 2017\n",
       "3 2016\n",
       "4 2016\n",
       "5 2016\n",
       "6 2017"
      ]
     },
     "metadata": {},
     "output_type": "display_data"
    },
    {
     "data": {
      "image/png": "[encoded data removed]",
      "text/plain": [
       "Plot with title \"Histogram of Price\""
      ]
     },
     "metadata": {
      "image/png": {
       "height": 420,
       "width": 420
      }
     },
     "output_type": "display_data"
    }
   ],
   "source": [
    "# Read the CSV file into a data frame\n",
    "data <- read.csv(\"house_price_clean.csv\")\n",
    "\n",
    "# View the first few rows of the data frame\n",
    "head(data)\n",
    "\n",
    "data <- data[0:5432,]\n",
    "\n",
    "#reorder the columns\n",
    "data <-data   %>%\n",
    "  select(Rooms, Distance, Bedroom2, Bathroom,Car,Landsize,BuildingArea,Propertycount,Lattitude,Longtitude,Price)\n",
    "\n",
    "\n",
    "par(mfrow=c(ceiling(sqrt(ncol(data))), ceiling(sqrt(ncol(data)))))\n",
    "\n",
    "# Loop through each column and plot its histogram\n",
    "for (col in names(data)) {\n",
    "  hist(data[[col]], main=paste(\"Histogram of\", col), xlab=col)\n",
    "}\n",
    "\n",
    "\n",
    "# Apply log transformation to 'Rooms' column\n",
    "data$Rooms <- log(data$Rooms)\n",
    "\n",
    "# Apply log transformation to 'Distance' column\n",
    "data$Distance <- log(data$Distance)\n",
    "\n",
    "# Apply log transformation to 'Bedroom2' column\n",
    "data$Bedroom2 <- log(data$Bedroom2)\n",
    "\n",
    "# Apply log transformation to 'Bathroom' column\n",
    "data$Bathroom <- log(data$Bathroom)\n",
    "\n",
    "# Apply log transformation to 'Car' column\n",
    "data$Car <- log(data$Car)\n",
    "\n",
    "# Apply log transformation to 'Landsize' column\n",
    "data$Landsize <- log(data$Landsize)\n",
    "\n",
    "# Apply log transformation to 'BuildingArea' column\n",
    "data$BuildingArea <- log(data$BuildingArea)\n",
    "\n",
    "# Apply log transformation to 'Propertycount' column\n",
    "data$Propertycount <- log(data$Propertycount)\n",
    "\n",
    "# Apply log transformation to 'Price' column\n",
    "data$Price <- log(data$Price)"
   ]
  },
  {
   "cell_type": "code",
   "execution_count": 151,
   "metadata": {
    "vscode": {
     "languageId": "r"
    }
   },
   "outputs": [
    {
     "data": {
      "image/png": "[encoded data removed]",
      "text/plain": [
       "Plot with title \"Histogram of Lattitude\""
      ]
     },
     "metadata": {
      "image/png": {
       "height": 420,
       "width": 420
      }
     },
     "output_type": "display_data"
    },
    {
     "data": {
      "image/png": "[encoded data removed]",
      "text/plain": [
       "Plot with title \"Histogram of Price\""
      ]
     },
     "metadata": {
      "image/png": {
       "height": 420,
       "width": 420
      }
     },
     "output_type": "display_data"
    }
   ],
   "source": [
    "par(mfrow=c(ceiling(sqrt(ncol(data_2))), ceiling(sqrt(ncol(data_2)))))\n",
    "\n",
    "# Loop through each column and plot its histogram\n",
    "for (col in names(log_trans_data)) {\n",
    "  hist(log_trans_data[[col]], main=paste(\"Histogram of\", col), xlab=col)\n",
    "}"
   ]
  },
  {
   "cell_type": "code",
   "execution_count": 155,
   "metadata": {
    "vscode": {
     "languageId": "r"
    }
   },
   "outputs": [],
   "source": [
    "d <- data[!apply(data, 1, function(row) any(is.infinite(row))), , drop = FALSE]"
   ]
  },
  {
   "cell_type": "code",
   "execution_count": 158,
   "metadata": {
    "vscode": {
     "languageId": "r"
    }
   },
   "outputs": [
    {
     "data": {
      "text/html": [
       "<style>\n",
       ".list-inline {list-style: none; margin:0; padding: 0}\n",
       ".list-inline>li {display: inline-block}\n",
       ".list-inline>li:not(:last-child)::after {content: \"\\00b7\"; padding: 0 .5ex}\n",
       "</style>\n",
       "<ol class=list-inline><li>'Rooms'</li><li>'Distance'</li><li>'Bedroom2'</li><li>'Bathroom'</li><li>'Car'</li><li>'Landsize'</li><li>'BuildingArea'</li><li>'Propertycount'</li><li>'Lattitude'</li><li>'Longtitude'</li><li>'Price'</li></ol>\n"
      ],
      "text/latex": [
       "\\begin{enumerate*}\n",
       "\\item 'Rooms'\n",
       "\\item 'Distance'\n",
       "\\item 'Bedroom2'\n",
       "\\item 'Bathroom'\n",
       "\\item 'Car'\n",
       "\\item 'Landsize'\n",
       "\\item 'BuildingArea'\n",
       "\\item 'Propertycount'\n",
       "\\item 'Lattitude'\n",
       "\\item 'Longtitude'\n",
       "\\item 'Price'\n",
       "\\end{enumerate*}\n"
      ],
      "text/markdown": [
       "1. 'Rooms'\n",
       "2. 'Distance'\n",
       "3. 'Bedroom2'\n",
       "4. 'Bathroom'\n",
       "5. 'Car'\n",
       "6. 'Landsize'\n",
       "7. 'BuildingArea'\n",
       "8. 'Propertycount'\n",
       "9. 'Lattitude'\n",
       "10. 'Longtitude'\n",
       "11. 'Price'\n",
       "\n",
       "\n"
      ],
      "text/plain": [
       " [1] \"Rooms\"         \"Distance\"      \"Bedroom2\"      \"Bathroom\"     \n",
       " [5] \"Car\"           \"Landsize\"      \"BuildingArea\"  \"Propertycount\"\n",
       " [9] \"Lattitude\"     \"Longtitude\"    \"Price\"        "
      ]
     },
     "metadata": {},
     "output_type": "display_data"
    }
   ],
   "source": [
    "colnames(d)"
   ]
  },
  {
   "cell_type": "code",
   "execution_count": 161,
   "metadata": {
    "vscode": {
     "languageId": "r"
    }
   },
   "outputs": [
    {
     "data": {
      "text/html": [
       "<style>\n",
       ".dl-inline {width: auto; margin:0; padding: 0}\n",
       ".dl-inline>dt, .dl-inline>dd {float: none; width: auto; display: inline-block}\n",
       ".dl-inline>dt::after {content: \":\\0020\"; padding-right: .5ex}\n",
       ".dl-inline>dt:not(:first-of-type) {padding-left: .5ex}\n",
       "</style><dl class=dl-inline><dt>(Intercept)</dt><dd>-180.443858252818</dd><dt>Rooms</dt><dd>0.555079687581429</dd><dt>Distance</dt><dd>-0.478657500324506</dd><dt>Bedroom2</dt><dd>0.134198388991605</dd><dt>Bathroom</dt><dd>0.121635158751221</dd><dt>Car</dt><dd>0.120194433970213</dd><dt>Landsize</dt><dd>0.0513505570572269</dd><dt>BuildingArea</dt><dd>0.156928074712089</dd><dt>Propertycount</dt><dd>-0.00825802025264387</dd><dt>Lattitude</dt><dd>-1.29690906481227</dd><dt>Longtitude</dt><dd>0.996215424902657</dd></dl>\n"
      ],
      "text/latex": [
       "\\begin{description*}\n",
       "\\item[(Intercept)] -180.443858252818\n",
       "\\item[Rooms] 0.555079687581429\n",
       "\\item[Distance] -0.478657500324506\n",
       "\\item[Bedroom2] 0.134198388991605\n",
       "\\item[Bathroom] 0.121635158751221\n",
       "\\item[Car] 0.120194433970213\n",
       "\\item[Landsize] 0.0513505570572269\n",
       "\\item[BuildingArea] 0.156928074712089\n",
       "\\item[Propertycount] -0.00825802025264387\n",
       "\\item[Lattitude] -1.29690906481227\n",
       "\\item[Longtitude] 0.996215424902657\n",
       "\\end{description*}\n"
      ],
      "text/markdown": [
       "(Intercept)\n",
       ":   -180.443858252818Rooms\n",
       ":   0.555079687581429Distance\n",
       ":   -0.478657500324506Bedroom2\n",
       ":   0.134198388991605Bathroom\n",
       ":   0.121635158751221Car\n",
       ":   0.120194433970213Landsize\n",
       ":   0.0513505570572269BuildingArea\n",
       ":   0.156928074712089Propertycount\n",
       ":   -0.00825802025264387Lattitude\n",
       ":   -1.29690906481227Longtitude\n",
       ":   0.996215424902657\n",
       "\n"
      ],
      "text/plain": [
       "  (Intercept)         Rooms      Distance      Bedroom2      Bathroom \n",
       "-180.44385825    0.55507969   -0.47865750    0.13419839    0.12163516 \n",
       "          Car      Landsize  BuildingArea Propertycount     Lattitude \n",
       "   0.12019443    0.05135056    0.15692807   -0.00825802   -1.29690906 \n",
       "   Longtitude \n",
       "   0.99621542 "
      ]
     },
     "metadata": {},
     "output_type": "display_data"
    }
   ],
   "source": [
    "\n",
    "mlr_model <- lm(Price ~ Rooms + Distance + Bedroom2 + Bathroom + Car + Landsize + BuildingArea + Propertycount + Lattitude + Longtitude , data = d)\n",
    "\n",
    "mlr_model$coefficients"
   ]
  },
  {
   "cell_type": "code",
   "execution_count": 162,
   "metadata": {
    "vscode": {
     "languageId": "r"
    }
   },
   "outputs": [
    {
     "data": {
      "text/plain": [
       "\n",
       "Call:\n",
       "lm(formula = Price ~ Rooms + Distance + Bedroom2 + Bathroom + \n",
       "    Car + Landsize + BuildingArea + Propertycount + Lattitude + \n",
       "    Longtitude, data = d)\n",
       "\n",
       "Residuals:\n",
       "     Min       1Q   Median       3Q      Max \n",
       "-2.03399 -0.20133 -0.00567  0.19580  1.52726 \n",
       "\n",
       "Coefficients:\n",
       "                Estimate Std. Error t value Pr(>|t|)    \n",
       "(Intercept)   -1.804e+02  6.451e+00 -27.973  < 2e-16 ***\n",
       "Rooms          5.551e-01  5.340e-02  10.395  < 2e-16 ***\n",
       "Distance      -4.787e-01  9.832e-03 -48.685  < 2e-16 ***\n",
       "Bedroom2       1.342e-01  5.259e-02   2.552   0.0108 *  \n",
       "Bathroom       1.216e-01  1.480e-02   8.221 2.64e-16 ***\n",
       "Car            1.202e-01  1.256e-02   9.574  < 2e-16 ***\n",
       "Landsize       5.135e-02  7.153e-03   7.179 8.21e-13 ***\n",
       "BuildingArea   1.569e-01  1.240e-02  12.651  < 2e-16 ***\n",
       "Propertycount -8.258e-03  7.602e-03  -1.086   0.2774    \n",
       "Lattitude     -1.297e+00  6.298e-02 -20.592  < 2e-16 ***\n",
       "Longtitude     9.962e-01  4.766e-02  20.901  < 2e-16 ***\n",
       "---\n",
       "Signif. codes:  0 '***' 0.001 '**' 0.01 '*' 0.05 '.' 0.1 ' ' 1\n",
       "\n",
       "Residual standard error: 0.3252 on 4320 degrees of freedom\n",
       "Multiple R-squared:  0.5873,\tAdjusted R-squared:  0.5864 \n",
       "F-statistic: 614.9 on 10 and 4320 DF,  p-value: < 2.2e-16\n"
      ]
     },
     "metadata": {},
     "output_type": "display_data"
    }
   ],
   "source": [
    "summary(mlr_model)"
   ]
  },
  {
   "cell_type": "markdown",
   "metadata": {
    "vscode": {
     "languageId": "r"
    }
   },
   "source": [
    "### F Test\n",
    "\n",
    "Assuming the significance level  $\\alpha = 0.05 $ to determine if atleast one of the features is related to the response variable Y"
   ]
  },
  {
   "cell_type": "code",
   "execution_count": 163,
   "metadata": {
    "vscode": {
     "languageId": "r"
    }
   },
   "outputs": [
    {
     "data": {
      "text/html": [
       "<table class=\"dataframe\">\n",
       "<caption>A anova: 11 × 5</caption>\n",
       "<thead>\n",
       "\t<tr><th></th><th scope=col>Df</th><th scope=col>Sum Sq</th><th scope=col>Mean Sq</th><th scope=col>F value</th><th scope=col>Pr(&gt;F)</th></tr>\n",
       "\t<tr><th></th><th scope=col>&lt;int&gt;</th><th scope=col>&lt;dbl&gt;</th><th scope=col>&lt;dbl&gt;</th><th scope=col>&lt;dbl&gt;</th><th scope=col>&lt;dbl&gt;</th></tr>\n",
       "</thead>\n",
       "<tbody>\n",
       "\t<tr><th scope=row>Rooms</th><td>   1</td><td>255.3490302</td><td>255.3490302</td><td>2415.061133</td><td> 0.000000e+00</td></tr>\n",
       "\t<tr><th scope=row>Distance</th><td>   1</td><td>181.7381335</td><td>181.7381335</td><td>1718.857919</td><td>1.378091e-316</td></tr>\n",
       "\t<tr><th scope=row>Bedroom2</th><td>   1</td><td>  2.0189265</td><td>  2.0189265</td><td>  19.094769</td><td> 1.273052e-05</td></tr>\n",
       "\t<tr><th scope=row>Bathroom</th><td>   1</td><td> 27.2680875</td><td> 27.2680875</td><td> 257.898369</td><td> 2.056508e-56</td></tr>\n",
       "\t<tr><th scope=row>Car</th><td>   1</td><td> 16.5375728</td><td> 16.5375728</td><td> 156.410421</td><td> 2.793098e-35</td></tr>\n",
       "\t<tr><th scope=row>Landsize</th><td>   1</td><td>  8.9394285</td><td>  8.9394285</td><td>  84.548065</td><td> 5.695743e-20</td></tr>\n",
       "\t<tr><th scope=row>BuildingArea</th><td>   1</td><td> 16.7944179</td><td> 16.7944179</td><td> 158.839632</td><td> 8.589566e-36</td></tr>\n",
       "\t<tr><th scope=row>Propertycount</th><td>   1</td><td>  0.5423744</td><td>  0.5423744</td><td>   5.129713</td><td> 2.356894e-02</td></tr>\n",
       "\t<tr><th scope=row>Lattitude</th><td>   1</td><td> 94.7416802</td><td> 94.7416802</td><td> 896.055682</td><td>4.486357e-179</td></tr>\n",
       "\t<tr><th scope=row>Longtitude</th><td>   1</td><td> 46.1891167</td><td> 46.1891167</td><td> 436.851240</td><td> 1.723058e-92</td></tr>\n",
       "\t<tr><th scope=row>Residuals</th><td>4320</td><td>456.7618580</td><td>  0.1057319</td><td>         NA</td><td>           NA</td></tr>\n",
       "</tbody>\n",
       "</table>\n"
      ],
      "text/latex": [
       "A anova: 11 × 5\n",
       "\\begin{tabular}{r|lllll}\n",
       "  & Df & Sum Sq & Mean Sq & F value & Pr(>F)\\\\\n",
       "  & <int> & <dbl> & <dbl> & <dbl> & <dbl>\\\\\n",
       "\\hline\n",
       "\tRooms &    1 & 255.3490302 & 255.3490302 & 2415.061133 &  0.000000e+00\\\\\n",
       "\tDistance &    1 & 181.7381335 & 181.7381335 & 1718.857919 & 1.378091e-316\\\\\n",
       "\tBedroom2 &    1 &   2.0189265 &   2.0189265 &   19.094769 &  1.273052e-05\\\\\n",
       "\tBathroom &    1 &  27.2680875 &  27.2680875 &  257.898369 &  2.056508e-56\\\\\n",
       "\tCar &    1 &  16.5375728 &  16.5375728 &  156.410421 &  2.793098e-35\\\\\n",
       "\tLandsize &    1 &   8.9394285 &   8.9394285 &   84.548065 &  5.695743e-20\\\\\n",
       "\tBuildingArea &    1 &  16.7944179 &  16.7944179 &  158.839632 &  8.589566e-36\\\\\n",
       "\tPropertycount &    1 &   0.5423744 &   0.5423744 &    5.129713 &  2.356894e-02\\\\\n",
       "\tLattitude &    1 &  94.7416802 &  94.7416802 &  896.055682 & 4.486357e-179\\\\\n",
       "\tLongtitude &    1 &  46.1891167 &  46.1891167 &  436.851240 &  1.723058e-92\\\\\n",
       "\tResiduals & 4320 & 456.7618580 &   0.1057319 &          NA &            NA\\\\\n",
       "\\end{tabular}\n"
      ],
      "text/markdown": [
       "\n",
       "A anova: 11 × 5\n",
       "\n",
       "| <!--/--> | Df &lt;int&gt; | Sum Sq &lt;dbl&gt; | Mean Sq &lt;dbl&gt; | F value &lt;dbl&gt; | Pr(&gt;F) &lt;dbl&gt; |\n",
       "|---|---|---|---|---|---|\n",
       "| Rooms |    1 | 255.3490302 | 255.3490302 | 2415.061133 |  0.000000e+00 |\n",
       "| Distance |    1 | 181.7381335 | 181.7381335 | 1718.857919 | 1.378091e-316 |\n",
       "| Bedroom2 |    1 |   2.0189265 |   2.0189265 |   19.094769 |  1.273052e-05 |\n",
       "| Bathroom |    1 |  27.2680875 |  27.2680875 |  257.898369 |  2.056508e-56 |\n",
       "| Car |    1 |  16.5375728 |  16.5375728 |  156.410421 |  2.793098e-35 |\n",
       "| Landsize |    1 |   8.9394285 |   8.9394285 |   84.548065 |  5.695743e-20 |\n",
       "| BuildingArea |    1 |  16.7944179 |  16.7944179 |  158.839632 |  8.589566e-36 |\n",
       "| Propertycount |    1 |   0.5423744 |   0.5423744 |    5.129713 |  2.356894e-02 |\n",
       "| Lattitude |    1 |  94.7416802 |  94.7416802 |  896.055682 | 4.486357e-179 |\n",
       "| Longtitude |    1 |  46.1891167 |  46.1891167 |  436.851240 |  1.723058e-92 |\n",
       "| Residuals | 4320 | 456.7618580 |   0.1057319 |          NA |            NA |\n",
       "\n"
      ],
      "text/plain": [
       "              Df   Sum Sq      Mean Sq     F value     Pr(>F)       \n",
       "Rooms            1 255.3490302 255.3490302 2415.061133  0.000000e+00\n",
       "Distance         1 181.7381335 181.7381335 1718.857919 1.378091e-316\n",
       "Bedroom2         1   2.0189265   2.0189265   19.094769  1.273052e-05\n",
       "Bathroom         1  27.2680875  27.2680875  257.898369  2.056508e-56\n",
       "Car              1  16.5375728  16.5375728  156.410421  2.793098e-35\n",
       "Landsize         1   8.9394285   8.9394285   84.548065  5.695743e-20\n",
       "BuildingArea     1  16.7944179  16.7944179  158.839632  8.589566e-36\n",
       "Propertycount    1   0.5423744   0.5423744    5.129713  2.356894e-02\n",
       "Lattitude        1  94.7416802  94.7416802  896.055682 4.486357e-179\n",
       "Longtitude       1  46.1891167  46.1891167  436.851240  1.723058e-92\n",
       "Residuals     4320 456.7618580   0.1057319          NA            NA"
      ]
     },
     "metadata": {},
     "output_type": "display_data"
    }
   ],
   "source": [
    "anova(mlr_model)"
   ]
  },
  {
   "cell_type": "markdown",
   "metadata": {},
   "source": [
    "$H_o = $ No Feature is related to the response variable \"Price\"\n",
    "\n",
    "\n",
    "$H_A = $ Atleast one feature is related to the response variable \"Price\" \n",
    "\n",
    "\n",
    "From the results tables we can clearly see that many features has P-value less than the significance level. \n",
    "\n",
    "\n",
    "\n",
    "\n"
   ]
  },
  {
   "cell_type": "markdown",
   "metadata": {},
   "source": [
    "### Diagnostics\n",
    "\n",
    "Goodnees of Fit"
   ]
  },
  {
   "cell_type": "code",
   "execution_count": 164,
   "metadata": {
    "vscode": {
     "languageId": "r"
    }
   },
   "outputs": [
    {
     "data": {
      "text/plain": [
       "\n",
       "Call:\n",
       "lm(formula = Price ~ Rooms + Distance + Bedroom2 + Bathroom + \n",
       "    Car + Landsize + BuildingArea + Propertycount + Lattitude + \n",
       "    Longtitude, data = d)\n",
       "\n",
       "Residuals:\n",
       "     Min       1Q   Median       3Q      Max \n",
       "-2.03399 -0.20133 -0.00567  0.19580  1.52726 \n",
       "\n",
       "Coefficients:\n",
       "                Estimate Std. Error t value Pr(>|t|)    \n",
       "(Intercept)   -1.804e+02  6.451e+00 -27.973  < 2e-16 ***\n",
       "Rooms          5.551e-01  5.340e-02  10.395  < 2e-16 ***\n",
       "Distance      -4.787e-01  9.832e-03 -48.685  < 2e-16 ***\n",
       "Bedroom2       1.342e-01  5.259e-02   2.552   0.0108 *  \n",
       "Bathroom       1.216e-01  1.480e-02   8.221 2.64e-16 ***\n",
       "Car            1.202e-01  1.256e-02   9.574  < 2e-16 ***\n",
       "Landsize       5.135e-02  7.153e-03   7.179 8.21e-13 ***\n",
       "BuildingArea   1.569e-01  1.240e-02  12.651  < 2e-16 ***\n",
       "Propertycount -8.258e-03  7.602e-03  -1.086   0.2774    \n",
       "Lattitude     -1.297e+00  6.298e-02 -20.592  < 2e-16 ***\n",
       "Longtitude     9.962e-01  4.766e-02  20.901  < 2e-16 ***\n",
       "---\n",
       "Signif. codes:  0 '***' 0.001 '**' 0.01 '*' 0.05 '.' 0.1 ' ' 1\n",
       "\n",
       "Residual standard error: 0.3252 on 4320 degrees of freedom\n",
       "Multiple R-squared:  0.5873,\tAdjusted R-squared:  0.5864 \n",
       "F-statistic: 614.9 on 10 and 4320 DF,  p-value: < 2.2e-16\n"
      ]
     },
     "metadata": {},
     "output_type": "display_data"
    }
   ],
   "source": [
    "summary(mlr_model)"
   ]
  },
  {
   "cell_type": "markdown",
   "metadata": {},
   "source": [
    "The $R^2 = 0.5873 $ is low it shows that we need to work in the feature selection process by using the forward select method. "
   ]
  },
  {
   "cell_type": "markdown",
   "metadata": {
    "vscode": {
     "languageId": "r"
    }
   },
   "source": [
    "### Forward Select"
   ]
  },
  {
   "cell_type": "code",
   "execution_count": 174,
   "metadata": {
    "vscode": {
     "languageId": "r"
    }
   },
   "outputs": [
    {
     "name": "stdout",
     "output_type": "stream",
     "text": [
      "Step:  1   Rooms  has been added.\n",
      "Step:  2   Distance  has been added.\n",
      "Step:  3   Longtitude  has been added.\n",
      "Step:  4   Lattitude  has been added.\n",
      "Step:  5   BuildingArea  has been added.\n",
      "Step:  6   Car  has been added.\n",
      "Step:  7   Bathroom  has been added.\n"
     ]
    },
    {
     "data": {
      "text/html": [
       "<style>\n",
       ".list-inline {list-style: none; margin:0; padding: 0}\n",
       ".list-inline>li {display: inline-block}\n",
       ".list-inline>li:not(:last-child)::after {content: \"\\00b7\"; padding: 0 .5ex}\n",
       "</style>\n",
       "<ol class=list-inline><li>'Rooms'</li><li>'Distance'</li><li>'Longtitude'</li><li>'Lattitude'</li><li>'BuildingArea'</li><li>'Car'</li><li>'Bathroom'</li></ol>\n"
      ],
      "text/latex": [
       "\\begin{enumerate*}\n",
       "\\item 'Rooms'\n",
       "\\item 'Distance'\n",
       "\\item 'Longtitude'\n",
       "\\item 'Lattitude'\n",
       "\\item 'BuildingArea'\n",
       "\\item 'Car'\n",
       "\\item 'Bathroom'\n",
       "\\end{enumerate*}\n"
      ],
      "text/markdown": [
       "1. 'Rooms'\n",
       "2. 'Distance'\n",
       "3. 'Longtitude'\n",
       "4. 'Lattitude'\n",
       "5. 'BuildingArea'\n",
       "6. 'Car'\n",
       "7. 'Bathroom'\n",
       "\n",
       "\n"
      ],
      "text/plain": [
       "[1] \"Rooms\"        \"Distance\"     \"Longtitude\"   \"Lattitude\"    \"BuildingArea\"\n",
       "[6] \"Car\"          \"Bathroom\"    "
      ]
     },
     "metadata": {},
     "output_type": "display_data"
    }
   ],
   "source": [
    "forward_select <- function(df, resp_str, maxk) {\n",
    "  selected_features <- c() \n",
    "  other_feat <- setdiff(names(df), resp_str)\n",
    "  Y <- df[[resp_str]]\n",
    "  for (k in 1:maxk) {\n",
    "    best_feature <- NULL\n",
    "    low_sse <- Inf  \n",
    "    \n",
    "    for (feature in other_feat) {\n",
    "      input_feature <- c(selected_features, feature)\n",
    "      model <- lm(paste(resp_str, \"~\", paste(input_feature, collapse = \" + \")), data = df)\n",
    "      y_hat <- predict(model, newdata = df)\n",
    "      sse <- sum((Y - y_hat)^2)\n",
    "      \n",
    "      if (sse < low_sse) {  \n",
    "        low_sse <- sse  # Corrected variable name here\n",
    "        best_feature <- feature\n",
    "      }\n",
    "    }\n",
    "    selected_features <- c(selected_features, best_feature)\n",
    "    other_feat <- setdiff(other_feat, best_feature)\n",
    "    \n",
    "    cat(paste(\"Step: \", k, \" \", best_feature, \" has been added.\\n\" ))\n",
    "  }\n",
    "  \n",
    "  return(selected_features)\n",
    "}\n",
    "\n",
    "forward_select(d, \"Price\",7)"
   ]
  },
  {
   "cell_type": "code",
   "execution_count": 175,
   "metadata": {
    "vscode": {
     "languageId": "r"
    }
   },
   "outputs": [
    {
     "data": {
      "text/html": [
       "<style>\n",
       ".dl-inline {width: auto; margin:0; padding: 0}\n",
       ".dl-inline>dt, .dl-inline>dd {float: none; width: auto; display: inline-block}\n",
       ".dl-inline>dt::after {content: \":\\0020\"; padding-right: .5ex}\n",
       ".dl-inline>dt:not(:first-of-type) {padding-left: .5ex}\n",
       "</style><dl class=dl-inline><dt>(Intercept)</dt><dd>-182.407171250038</dd><dt>Rooms</dt><dd>0.697204345675366</dd><dt>Distance</dt><dd>-0.468808518108281</dd><dt>Longtitude</dt><dd>1.01616009607176</dd><dt>Lattitude</dt><dd>-1.276921824643</dd><dt>BuildingArea</dt><dd>0.163025884365438</dd><dt>Car</dt><dd>0.137773956180583</dd><dt>Bathroom</dt><dd>0.117723871971474</dd></dl>\n"
      ],
      "text/latex": [
       "\\begin{description*}\n",
       "\\item[(Intercept)] -182.407171250038\n",
       "\\item[Rooms] 0.697204345675366\n",
       "\\item[Distance] -0.468808518108281\n",
       "\\item[Longtitude] 1.01616009607176\n",
       "\\item[Lattitude] -1.276921824643\n",
       "\\item[BuildingArea] 0.163025884365438\n",
       "\\item[Car] 0.137773956180583\n",
       "\\item[Bathroom] 0.117723871971474\n",
       "\\end{description*}\n"
      ],
      "text/markdown": [
       "(Intercept)\n",
       ":   -182.407171250038Rooms\n",
       ":   0.697204345675366Distance\n",
       ":   -0.468808518108281Longtitude\n",
       ":   1.01616009607176Lattitude\n",
       ":   -1.276921824643BuildingArea\n",
       ":   0.163025884365438Car\n",
       ":   0.137773956180583Bathroom\n",
       ":   0.117723871971474\n",
       "\n"
      ],
      "text/plain": [
       " (Intercept)        Rooms     Distance   Longtitude    Lattitude BuildingArea \n",
       "-182.4071713    0.6972043   -0.4688085    1.0161601   -1.2769218    0.1630259 \n",
       "         Car     Bathroom \n",
       "   0.1377740    0.1177239 "
      ]
     },
     "metadata": {},
     "output_type": "display_data"
    }
   ],
   "source": [
    "\n",
    "mlr_model <- lm(Price ~ Rooms + Distance + Longtitude + Lattitude + BuildingArea + Car  + Bathroom , data = d)\n",
    "\n",
    "mlr_model$coefficients"
   ]
  },
  {
   "cell_type": "code",
   "execution_count": 176,
   "metadata": {
    "vscode": {
     "languageId": "r"
    }
   },
   "outputs": [
    {
     "data": {
      "text/plain": [
       "\n",
       "Call:\n",
       "lm(formula = Price ~ Rooms + Distance + Longtitude + Lattitude + \n",
       "    BuildingArea + Car + Bathroom, data = d)\n",
       "\n",
       "Residuals:\n",
       "    Min      1Q  Median      3Q     Max \n",
       "-2.0626 -0.2129 -0.0101  0.1985  1.5639 \n",
       "\n",
       "Coefficients:\n",
       "               Estimate Std. Error t value Pr(>|t|)    \n",
       "(Intercept)  -1.824e+02  6.450e+00 -28.278  < 2e-16 ***\n",
       "Rooms         6.972e-01  2.122e-02  32.861  < 2e-16 ***\n",
       "Distance     -4.688e-01  9.792e-03 -47.878  < 2e-16 ***\n",
       "Longtitude    1.016e+00  4.761e-02  21.346  < 2e-16 ***\n",
       "Lattitude    -1.277e+00  6.334e-02 -20.161  < 2e-16 ***\n",
       "BuildingArea  1.630e-01  1.246e-02  13.084  < 2e-16 ***\n",
       "Car           1.378e-01  1.242e-02  11.093  < 2e-16 ***\n",
       "Bathroom      1.177e-01  1.481e-02   7.952 2.33e-15 ***\n",
       "---\n",
       "Signif. codes:  0 '***' 0.001 '**' 0.01 '*' 0.05 '.' 0.1 ' ' 1\n",
       "\n",
       "Residual standard error: 0.3273 on 4323 degrees of freedom\n",
       "Multiple R-squared:  0.5816,\tAdjusted R-squared:  0.5809 \n",
       "F-statistic: 858.3 on 7 and 4323 DF,  p-value: < 2.2e-16\n"
      ]
     },
     "metadata": {},
     "output_type": "display_data"
    }
   ],
   "source": [
    "summary(mlr_model)"
   ]
  },
  {
   "cell_type": "code",
   "execution_count": 177,
   "metadata": {
    "vscode": {
     "languageId": "r"
    }
   },
   "outputs": [
    {
     "data": {
      "image/png": "[encoded data removed]",
      "text/plain": [
       "Plot with title \"\""
      ]
     },
     "metadata": {
      "image/png": {
       "height": 420,
       "width": 420
      }
     },
     "output_type": "display_data"
    }
   ],
   "source": [
    "# gamble_df_1<- teengamb[-24, ]\n",
    "\n",
    "# lm_gamble_1 <- lm(data = gamble_df_1 , gamble ~ sex + status + income + verbal)\n",
    "\n",
    "diag_1 = data.frame(yhat = fitted(mlr_model), r = resid(mlr_model,type = \"pearson\"), y = d$Price,\n",
    "                           Rooms = d$Rooms, Distance =  d$Distance , Longtitude = d$Longtitude , Lattitude = d$Lattitude , BuildingArea = d$BuildingArea , Car = d$Car , Bathroom = d$Bathroom)\n",
    "\n",
    "\n",
    "par(mfrow = c(2,2))\n",
    "plot(mlr_model)"
   ]
  },
  {
   "cell_type": "markdown",
   "metadata": {
    "vscode": {
     "languageId": "r"
    }
   },
   "source": [
    "Constant Variance - The variance is the constant across the overall data.\n",
    "Normality - \n"
   ]
  },
  {
   "cell_type": "code",
   "execution_count": 189,
   "metadata": {
    "vscode": {
     "languageId": "r"
    }
   },
   "outputs": [],
   "source": [
    "library(tidyverse)"
   ]
  },
  {
   "cell_type": "code",
   "execution_count": 192,
   "metadata": {
    "vscode": {
     "languageId": "r"
    }
   },
   "outputs": [
    {
     "name": "stderr",
     "output_type": "stream",
     "text": [
      "\u001b[1m\u001b[22m`geom_smooth()` using method = 'gam' and formula = 'y ~ s(x, bs = \"cs\")'\n"
     ]
    },
    {
     "data": {
      "image/png": "[encoded data removed]",
      "text/plain": [
       "plot without title"
      ]
     },
     "metadata": {
      "image/png": {
       "height": 360,
       "width": 360
      }
     },
     "output_type": "display_data"
    }
   ],
   "source": [
    "options(repr.plot.width = 6, repr.plot.height = 6)\n",
    "ggplot(diag_1, aes(x = y, y = yhat)) + \n",
    "    geom_point(alpha = 0.5) + \n",
    "    geom_smooth(se = F, col = \"#CFB87C\") +\n",
    "    geom_abline(intercept = 0, slope = 1)+\n",
    "    xlab(\"Observed Values\") +\n",
    "    ylab(\"Fitted/Predicted Values\") +\n",
    "    theme_bw()"
   ]
  },
  {
   "cell_type": "code",
   "execution_count": null,
   "metadata": {
    "vscode": {
     "languageId": "r"
    }
   },
   "outputs": [],
   "source": []
  },
  {
   "cell_type": "code",
   "execution_count": null,
   "metadata": {
    "vscode": {
     "languageId": "r"
    }
   },
   "outputs": [],
   "source": []
  }
 ],
 "metadata": {
  "kernelspec": {
   "display_name": "R",
   "language": "R",
   "name": "ir"
  },
  "language_info": {
   "codemirror_mode": "r",
   "file_extension": ".r",
   "mimetype": "text/x-r-source",
   "name": "R",
   "pygments_lexer": "r",
   "version": "4.3.2"
  }
 },
 "nbformat": 4,
 "nbformat_minor": 2
}
